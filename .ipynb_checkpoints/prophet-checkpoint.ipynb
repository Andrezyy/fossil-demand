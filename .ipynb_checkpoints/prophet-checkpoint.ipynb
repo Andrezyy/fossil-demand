{
 "cells": [
  {
   "cell_type": "code",
   "execution_count": 12,
   "id": "9bea744c-e00c-4be4-a112-026ae9848d2f",
   "metadata": {},
   "outputs": [],
   "source": [
    "import numpy as np\n",
    "import pandas as pd\n",
    "import matplotlib.pyplot as plt\n",
    "import seaborn as sns\n",
    "\n",
    "from tqdm.notebook import tqdm\n",
    "from IPython.display import clear_output\n",
    "\n",
    "import os\n",
    "import random\n",
    "import datetime\n",
    "\n",
    "from prophet import Prophet"
   ]
  },
  {
   "cell_type": "code",
   "execution_count": 50,
   "id": "c99f0240-c71f-46c8-9293-69242b37bc01",
   "metadata": {
    "jupyter": {
     "source_hidden": true
    },
    "tags": []
   },
   "outputs": [],
   "source": [
    "def make_ts(data, window_size=2, method = 'smart'):\n",
    "    '''\n",
    "    input:\n",
    "    method - linear or ma\n",
    "    data - data with columns sellout and nth_month\n",
    "    window_size - window size for moving average\n",
    "    \n",
    "    if method = linear or smart then window_size do nothing\n",
    "    '''\n",
    "    sellouts = data.sellout.reset_index(drop=True)\n",
    "    months = data.nth_month.reset_index(drop=True)\n",
    "    sellouts_before_fill = []\n",
    "    for i in range(len(sellouts)):\n",
    "        try:\n",
    "            n_missing_values = months[i+1] - months[i] - 1\n",
    "            sellouts_before_fill += [sellouts[i]] + [np.nan]*n_missing_values\n",
    "        except:\n",
    "             sellouts_before_fill += [sellouts[i]]\n",
    "\n",
    "    months = np.arange(min(months), max(months)+1)  \n",
    "    sellouts_before_fill = pd.Series(sellouts_before_fill, index = months)\n",
    "    new_sellouts = fill_missing_values(sellouts_before_fill.copy(), window_size, method)\n",
    "    \n",
    "    # plt.title(data.sku_name.unique()[0]) #always alone sku_name\n",
    "    # plt.plot(new_sellouts, marker = '.', color = 'green')\n",
    "    # plt.plot(sellouts_before_fill, marker = 'o', color = 'blue')\n",
    "    # plt.legend(['filled data','source data'])\n",
    "    # plt.show()\n",
    "    \n",
    "    return new_sellouts\n",
    "    \n",
    "    \n",
    "        \n",
    "def fill_missing_values(ts, window_size, method):\n",
    "    if method == 'ma':\n",
    "        linear_interpol(ts, window_size)\n",
    "        for i in ts.index:\n",
    "            if np.isnan(ts[i]):\n",
    "                ts[i] = ts[i-window_size:i].mean()\n",
    "    elif method == 'linear':\n",
    "        ts.interpolate(method='linear', inplace=True)\n",
    "    elif method == 'smart':\n",
    "        ts = smart_filling(ts)\n",
    "    return ts\n",
    "            \n",
    "    \n",
    "def linear_interpol(ts, min_row):\n",
    "    while True:\n",
    "        if np.isnan(ts[:min_row]).sum() == 0:\n",
    "            break\n",
    "        else:\n",
    "            start = end =-1\n",
    "            for i in ts.index:\n",
    "                if start == -1 and np.isnan(ts[i]):\n",
    "                    start = i - 1\n",
    "                elif start!=-1 and not np.isnan(ts[i]):\n",
    "                    end = i+1\n",
    "                if start!=-1 and end!=-1:\n",
    "                    ts[start:end].interpolate(method='linear', inplace=True)\n",
    "                    break\n",
    "                    \n",
    "def smart_filling(ts):\n",
    "    '''\n",
    "    mod=0 nothing\n",
    "    mod=1 filling\n",
    "    first loop - for pattern\n",
    "    second loop - for peaks moments\n",
    "    in the end linear filling default intervals\n",
    "    '''\n",
    "    mod=0\n",
    "    index_to_skip=-1\n",
    "    \n",
    "    for i in ts.index:\n",
    "        try:\n",
    "            if mod == 1 and i!=index_to_skip:\n",
    "                index1 = random.choice(non_na_elements_for_fill) \n",
    "                index2 = random.choice(non_na_elements_for_fill) \n",
    "                ts[i] = (ts[index1] + ts[index2])/2\n",
    "                if not np.isnan(ts[i+1]):\n",
    "                    mod=0\n",
    "\n",
    "            elif np.isnan(ts[i]) and ts[i+1]/ts[i-1] > 1.5 and mod == 0:\n",
    "                ts[i] = (ts[i-1] + ts[i-2])/2\n",
    "                mod = 1\n",
    "                non_na_elements_for_fill = []\n",
    "                index_to_skip = i+1 \n",
    "                for j in ts[ts>=0].index:\n",
    "                    if j > i+1 and len(non_na_elements_for_fill)<3:\n",
    "                        non_na_elements_for_fill.append(j)\n",
    "        except:\n",
    "            continue\n",
    "            \n",
    "    for i in ts.index:\n",
    "        try:\n",
    "            if mod == 1:\n",
    "                index1 = random.choice(non_na_elements_for_fill) \n",
    "                index2 = random.choice(non_na_elements_for_fill) \n",
    "                ts[i] = (ts[index1] + ts[index2])/2\n",
    "                if not np.isnan(ts[i+1]):\n",
    "                    mod=0\n",
    "            elif not np.isnan(ts[i]) and ts[i]/ts[i-1] > 1.5 and np.isnan(ts[i+1]) and mod == 0:\n",
    "                mod=1\n",
    "                non_na_elements_for_fill = []\n",
    "                for j in ts[ts>=0].index:\n",
    "                    if j > i and len(non_na_elements_for_fill)<3:\n",
    "                        non_na_elements_for_fill.append(j)\n",
    "        except:\n",
    "            continue\n",
    "    ts.interpolate(method='linear', inplace=True)\n",
    "    return ts"
   ]
  },
  {
   "cell_type": "code",
   "execution_count": 102,
   "id": "27f1b64e-2ce2-4bff-b3cb-74879085926a",
   "metadata": {},
   "outputs": [],
   "source": [
    "def date_column(x):\n",
    "    print(x)\n",
    "    y = x.nth_month// 12\n",
    "    m = x.nth_month % 12\n",
    "    return pd.Timestamp(2016 + y, m, 1)"
   ]
  },
  {
   "cell_type": "code",
   "execution_count": null,
   "id": "f744d751-fd92-491c-bf66-258d73456adc",
   "metadata": {},
   "outputs": [],
   "source": []
  },
  {
   "cell_type": "code",
   "execution_count": null,
   "id": "bb21546c-9e61-4574-aa53-f45c892442a7",
   "metadata": {},
   "outputs": [],
   "source": []
  },
  {
   "cell_type": "code",
   "execution_count": null,
   "id": "b45f03ea-d00c-4957-ae6e-0327633a251c",
   "metadata": {},
   "outputs": [],
   "source": []
  },
  {
   "cell_type": "code",
   "execution_count": 51,
   "id": "87db1fe2-f01e-4003-a9e0-97f352c20509",
   "metadata": {},
   "outputs": [],
   "source": [
    "train = pd.read_csv(r\"New_train.csv\")\n",
    "test = pd.read_csv(r\"Test.csv\")\n",
    "train = train.drop(columns=['starting_inventory','sellin','onhand_inventory', 'leftover_inventory','CAT_GENDER_BOTH',\n",
    "                            'CAT_GENDER_MEN','CAT_GENDER_WOMEN','prefix'])"
   ]
  },
  {
   "cell_type": "code",
   "execution_count": 85,
   "id": "8bd0119d-fc01-4462-bdf2-e48b8015faf2",
   "metadata": {},
   "outputs": [],
   "source": [
    "sku_train = train[train.sku_name == 'YOSHWARDTERR']"
   ]
  },
  {
   "cell_type": "code",
   "execution_count": 104,
   "id": "39ccf677-165d-4d60-9518-31549199f5b6",
   "metadata": {},
   "outputs": [],
   "source": [
    "ts = make_ts(sku_train)"
   ]
  },
  {
   "cell_type": "code",
   "execution_count": 103,
   "id": "81ad066a-61c1-4b11-9308-2363c3a90a3c",
   "metadata": {},
   "outputs": [
    {
     "name": "stdout",
     "output_type": "stream",
     "text": [
      "7      7\n",
      "8      8\n",
      "9      9\n",
      "10    10\n",
      "11    11\n",
      "12    12\n",
      "13    13\n",
      "14    14\n",
      "15    15\n",
      "16    16\n",
      "17    17\n",
      "Name: nth_month, dtype: int64\n"
     ]
    },
    {
     "ename": "AttributeError",
     "evalue": "'Series' object has no attribute 'nth_month'",
     "output_type": "error",
     "traceback": [
      "\u001b[1;31m---------------------------------------------------------------------------\u001b[0m",
      "\u001b[1;31mAttributeError\u001b[0m                            Traceback (most recent call last)",
      "Input \u001b[1;32mIn [103]\u001b[0m, in \u001b[0;36m<cell line: 3>\u001b[1;34m()\u001b[0m\n\u001b[0;32m      1\u001b[0m ts \u001b[38;5;241m=\u001b[39m make_ts(sku_train)\n\u001b[0;32m      2\u001b[0m ts \u001b[38;5;241m=\u001b[39m pd\u001b[38;5;241m.\u001b[39mDataFrame(data\u001b[38;5;241m=\u001b[39m{\u001b[38;5;124m'\u001b[39m\u001b[38;5;124mnth_month\u001b[39m\u001b[38;5;124m'\u001b[39m:np\u001b[38;5;241m.\u001b[39marange(ts\u001b[38;5;241m.\u001b[39mindex[\u001b[38;5;241m0\u001b[39m], ts\u001b[38;5;241m.\u001b[39mindex[\u001b[38;5;241m-\u001b[39m\u001b[38;5;241m1\u001b[39m]\u001b[38;5;241m+\u001b[39m\u001b[38;5;241m1\u001b[39m), \u001b[38;5;124m'\u001b[39m\u001b[38;5;124my\u001b[39m\u001b[38;5;124m'\u001b[39m:ts})\n\u001b[1;32m----> 3\u001b[0m ts[\u001b[38;5;124m'\u001b[39m\u001b[38;5;124mds\u001b[39m\u001b[38;5;124m'\u001b[39m] \u001b[38;5;241m=\u001b[39m \u001b[43mts\u001b[49m\u001b[38;5;241;43m.\u001b[39;49m\u001b[43mapply\u001b[49m\u001b[43m(\u001b[49m\u001b[43mfunc\u001b[49m\u001b[43m \u001b[49m\u001b[38;5;241;43m=\u001b[39;49m\u001b[43m \u001b[49m\u001b[43mdate_column\u001b[49m\u001b[43m)\u001b[49m\n",
      "File \u001b[1;32m~\\anaconda3\\lib\\site-packages\\pandas\\core\\frame.py:8839\u001b[0m, in \u001b[0;36mDataFrame.apply\u001b[1;34m(self, func, axis, raw, result_type, args, **kwargs)\u001b[0m\n\u001b[0;32m   8828\u001b[0m \u001b[38;5;28;01mfrom\u001b[39;00m \u001b[38;5;21;01mpandas\u001b[39;00m\u001b[38;5;21;01m.\u001b[39;00m\u001b[38;5;21;01mcore\u001b[39;00m\u001b[38;5;21;01m.\u001b[39;00m\u001b[38;5;21;01mapply\u001b[39;00m \u001b[38;5;28;01mimport\u001b[39;00m frame_apply\n\u001b[0;32m   8830\u001b[0m op \u001b[38;5;241m=\u001b[39m frame_apply(\n\u001b[0;32m   8831\u001b[0m     \u001b[38;5;28mself\u001b[39m,\n\u001b[0;32m   8832\u001b[0m     func\u001b[38;5;241m=\u001b[39mfunc,\n\u001b[1;32m   (...)\u001b[0m\n\u001b[0;32m   8837\u001b[0m     kwargs\u001b[38;5;241m=\u001b[39mkwargs,\n\u001b[0;32m   8838\u001b[0m )\n\u001b[1;32m-> 8839\u001b[0m \u001b[38;5;28;01mreturn\u001b[39;00m \u001b[43mop\u001b[49m\u001b[38;5;241;43m.\u001b[39;49m\u001b[43mapply\u001b[49m\u001b[43m(\u001b[49m\u001b[43m)\u001b[49m\u001b[38;5;241m.\u001b[39m__finalize__(\u001b[38;5;28mself\u001b[39m, method\u001b[38;5;241m=\u001b[39m\u001b[38;5;124m\"\u001b[39m\u001b[38;5;124mapply\u001b[39m\u001b[38;5;124m\"\u001b[39m)\n",
      "File \u001b[1;32m~\\anaconda3\\lib\\site-packages\\pandas\\core\\apply.py:727\u001b[0m, in \u001b[0;36mFrameApply.apply\u001b[1;34m(self)\u001b[0m\n\u001b[0;32m    724\u001b[0m \u001b[38;5;28;01melif\u001b[39;00m \u001b[38;5;28mself\u001b[39m\u001b[38;5;241m.\u001b[39mraw:\n\u001b[0;32m    725\u001b[0m     \u001b[38;5;28;01mreturn\u001b[39;00m \u001b[38;5;28mself\u001b[39m\u001b[38;5;241m.\u001b[39mapply_raw()\n\u001b[1;32m--> 727\u001b[0m \u001b[38;5;28;01mreturn\u001b[39;00m \u001b[38;5;28;43mself\u001b[39;49m\u001b[38;5;241;43m.\u001b[39;49m\u001b[43mapply_standard\u001b[49m\u001b[43m(\u001b[49m\u001b[43m)\u001b[49m\n",
      "File \u001b[1;32m~\\anaconda3\\lib\\site-packages\\pandas\\core\\apply.py:851\u001b[0m, in \u001b[0;36mFrameApply.apply_standard\u001b[1;34m(self)\u001b[0m\n\u001b[0;32m    850\u001b[0m \u001b[38;5;28;01mdef\u001b[39;00m \u001b[38;5;21mapply_standard\u001b[39m(\u001b[38;5;28mself\u001b[39m):\n\u001b[1;32m--> 851\u001b[0m     results, res_index \u001b[38;5;241m=\u001b[39m \u001b[38;5;28;43mself\u001b[39;49m\u001b[38;5;241;43m.\u001b[39;49m\u001b[43mapply_series_generator\u001b[49m\u001b[43m(\u001b[49m\u001b[43m)\u001b[49m\n\u001b[0;32m    853\u001b[0m     \u001b[38;5;66;03m# wrap results\u001b[39;00m\n\u001b[0;32m    854\u001b[0m     \u001b[38;5;28;01mreturn\u001b[39;00m \u001b[38;5;28mself\u001b[39m\u001b[38;5;241m.\u001b[39mwrap_results(results, res_index)\n",
      "File \u001b[1;32m~\\anaconda3\\lib\\site-packages\\pandas\\core\\apply.py:867\u001b[0m, in \u001b[0;36mFrameApply.apply_series_generator\u001b[1;34m(self)\u001b[0m\n\u001b[0;32m    864\u001b[0m \u001b[38;5;28;01mwith\u001b[39;00m option_context(\u001b[38;5;124m\"\u001b[39m\u001b[38;5;124mmode.chained_assignment\u001b[39m\u001b[38;5;124m\"\u001b[39m, \u001b[38;5;28;01mNone\u001b[39;00m):\n\u001b[0;32m    865\u001b[0m     \u001b[38;5;28;01mfor\u001b[39;00m i, v \u001b[38;5;129;01min\u001b[39;00m \u001b[38;5;28menumerate\u001b[39m(series_gen):\n\u001b[0;32m    866\u001b[0m         \u001b[38;5;66;03m# ignore SettingWithCopy here in case the user mutates\u001b[39;00m\n\u001b[1;32m--> 867\u001b[0m         results[i] \u001b[38;5;241m=\u001b[39m \u001b[38;5;28;43mself\u001b[39;49m\u001b[38;5;241;43m.\u001b[39;49m\u001b[43mf\u001b[49m\u001b[43m(\u001b[49m\u001b[43mv\u001b[49m\u001b[43m)\u001b[49m\n\u001b[0;32m    868\u001b[0m         \u001b[38;5;28;01mif\u001b[39;00m \u001b[38;5;28misinstance\u001b[39m(results[i], ABCSeries):\n\u001b[0;32m    869\u001b[0m             \u001b[38;5;66;03m# If we have a view on v, we need to make a copy because\u001b[39;00m\n\u001b[0;32m    870\u001b[0m             \u001b[38;5;66;03m#  series_generator will swap out the underlying data\u001b[39;00m\n\u001b[0;32m    871\u001b[0m             results[i] \u001b[38;5;241m=\u001b[39m results[i]\u001b[38;5;241m.\u001b[39mcopy(deep\u001b[38;5;241m=\u001b[39m\u001b[38;5;28;01mFalse\u001b[39;00m)\n",
      "Input \u001b[1;32mIn [102]\u001b[0m, in \u001b[0;36mdate_column\u001b[1;34m(x)\u001b[0m\n\u001b[0;32m      1\u001b[0m \u001b[38;5;28;01mdef\u001b[39;00m \u001b[38;5;21mdate_column\u001b[39m(x):\n\u001b[0;32m      2\u001b[0m     \u001b[38;5;28mprint\u001b[39m(x)\n\u001b[1;32m----> 3\u001b[0m     y \u001b[38;5;241m=\u001b[39m \u001b[43mx\u001b[49m\u001b[38;5;241;43m.\u001b[39;49m\u001b[43mnth_month\u001b[49m\u001b[38;5;241m/\u001b[39m\u001b[38;5;241m/\u001b[39m \u001b[38;5;241m12\u001b[39m\n\u001b[0;32m      4\u001b[0m     m \u001b[38;5;241m=\u001b[39m x\u001b[38;5;241m.\u001b[39mnth_month \u001b[38;5;241m%\u001b[39m \u001b[38;5;241m12\u001b[39m\n\u001b[0;32m      5\u001b[0m     \u001b[38;5;28;01mreturn\u001b[39;00m pd\u001b[38;5;241m.\u001b[39mTimestamp(\u001b[38;5;241m2016\u001b[39m \u001b[38;5;241m+\u001b[39m y, m, \u001b[38;5;241m1\u001b[39m)\n",
      "File \u001b[1;32m~\\anaconda3\\lib\\site-packages\\pandas\\core\\generic.py:5575\u001b[0m, in \u001b[0;36mNDFrame.__getattr__\u001b[1;34m(self, name)\u001b[0m\n\u001b[0;32m   5568\u001b[0m \u001b[38;5;28;01mif\u001b[39;00m (\n\u001b[0;32m   5569\u001b[0m     name \u001b[38;5;129;01mnot\u001b[39;00m \u001b[38;5;129;01min\u001b[39;00m \u001b[38;5;28mself\u001b[39m\u001b[38;5;241m.\u001b[39m_internal_names_set\n\u001b[0;32m   5570\u001b[0m     \u001b[38;5;129;01mand\u001b[39;00m name \u001b[38;5;129;01mnot\u001b[39;00m \u001b[38;5;129;01min\u001b[39;00m \u001b[38;5;28mself\u001b[39m\u001b[38;5;241m.\u001b[39m_metadata\n\u001b[0;32m   5571\u001b[0m     \u001b[38;5;129;01mand\u001b[39;00m name \u001b[38;5;129;01mnot\u001b[39;00m \u001b[38;5;129;01min\u001b[39;00m \u001b[38;5;28mself\u001b[39m\u001b[38;5;241m.\u001b[39m_accessors\n\u001b[0;32m   5572\u001b[0m     \u001b[38;5;129;01mand\u001b[39;00m \u001b[38;5;28mself\u001b[39m\u001b[38;5;241m.\u001b[39m_info_axis\u001b[38;5;241m.\u001b[39m_can_hold_identifiers_and_holds_name(name)\n\u001b[0;32m   5573\u001b[0m ):\n\u001b[0;32m   5574\u001b[0m     \u001b[38;5;28;01mreturn\u001b[39;00m \u001b[38;5;28mself\u001b[39m[name]\n\u001b[1;32m-> 5575\u001b[0m \u001b[38;5;28;01mreturn\u001b[39;00m \u001b[38;5;28;43mobject\u001b[39;49m\u001b[38;5;241;43m.\u001b[39;49m\u001b[38;5;21;43m__getattribute__\u001b[39;49m\u001b[43m(\u001b[49m\u001b[38;5;28;43mself\u001b[39;49m\u001b[43m,\u001b[49m\u001b[43m \u001b[49m\u001b[43mname\u001b[49m\u001b[43m)\u001b[49m\n",
      "\u001b[1;31mAttributeError\u001b[0m: 'Series' object has no attribute 'nth_month'"
     ]
    }
   ],
   "source": [
    "ts = make_ts(sku_train)\n",
    "ts = pd.DataFrame(data={'nth_month':np.arange(ts.index[0], ts.index[-1]+1), 'y':ts})\n",
    "ts['ds'] = ts.apply(func = date_column)"
   ]
  },
  {
   "cell_type": "code",
   "execution_count": 101,
   "id": "a17fd5d9-6cc7-4d25-8084-41f6fa588bf6",
   "metadata": {},
   "outputs": [
    {
     "data": {
      "text/html": [
       "<div>\n",
       "<style scoped>\n",
       "    .dataframe tbody tr th:only-of-type {\n",
       "        vertical-align: middle;\n",
       "    }\n",
       "\n",
       "    .dataframe tbody tr th {\n",
       "        vertical-align: top;\n",
       "    }\n",
       "\n",
       "    .dataframe thead th {\n",
       "        text-align: right;\n",
       "    }\n",
       "</style>\n",
       "<table border=\"1\" class=\"dataframe\">\n",
       "  <thead>\n",
       "    <tr style=\"text-align: right;\">\n",
       "      <th></th>\n",
       "      <th>nth_month</th>\n",
       "      <th>y</th>\n",
       "    </tr>\n",
       "  </thead>\n",
       "  <tbody>\n",
       "    <tr>\n",
       "      <th>7</th>\n",
       "      <td>7</td>\n",
       "      <td>1013.000000</td>\n",
       "    </tr>\n",
       "    <tr>\n",
       "      <th>8</th>\n",
       "      <td>8</td>\n",
       "      <td>868.285714</td>\n",
       "    </tr>\n",
       "    <tr>\n",
       "      <th>9</th>\n",
       "      <td>9</td>\n",
       "      <td>723.571429</td>\n",
       "    </tr>\n",
       "    <tr>\n",
       "      <th>10</th>\n",
       "      <td>10</td>\n",
       "      <td>578.857143</td>\n",
       "    </tr>\n",
       "    <tr>\n",
       "      <th>11</th>\n",
       "      <td>11</td>\n",
       "      <td>434.142857</td>\n",
       "    </tr>\n",
       "    <tr>\n",
       "      <th>12</th>\n",
       "      <td>12</td>\n",
       "      <td>289.428571</td>\n",
       "    </tr>\n",
       "    <tr>\n",
       "      <th>13</th>\n",
       "      <td>13</td>\n",
       "      <td>144.714286</td>\n",
       "    </tr>\n",
       "    <tr>\n",
       "      <th>14</th>\n",
       "      <td>14</td>\n",
       "      <td>0.000000</td>\n",
       "    </tr>\n",
       "    <tr>\n",
       "      <th>15</th>\n",
       "      <td>15</td>\n",
       "      <td>337.666667</td>\n",
       "    </tr>\n",
       "    <tr>\n",
       "      <th>16</th>\n",
       "      <td>16</td>\n",
       "      <td>675.333333</td>\n",
       "    </tr>\n",
       "    <tr>\n",
       "      <th>17</th>\n",
       "      <td>17</td>\n",
       "      <td>1013.000000</td>\n",
       "    </tr>\n",
       "  </tbody>\n",
       "</table>\n",
       "</div>"
      ],
      "text/plain": [
       "    nth_month            y\n",
       "7           7  1013.000000\n",
       "8           8   868.285714\n",
       "9           9   723.571429\n",
       "10         10   578.857143\n",
       "11         11   434.142857\n",
       "12         12   289.428571\n",
       "13         13   144.714286\n",
       "14         14     0.000000\n",
       "15         15   337.666667\n",
       "16         16   675.333333\n",
       "17         17  1013.000000"
      ]
     },
     "execution_count": 101,
     "metadata": {},
     "output_type": "execute_result"
    }
   ],
   "source": [
    "ts"
   ]
  },
  {
   "cell_type": "code",
   "execution_count": 27,
   "id": "083bc260-2e4d-4380-9a1a-2f549667abd3",
   "metadata": {},
   "outputs": [],
   "source": [
    "def date_column(x):\n",
    "    return f'{x.year}-{x.month}-01' "
   ]
  },
  {
   "cell_type": "code",
   "execution_count": null,
   "id": "1226f1cc-b111-436a-b1e7-fbcebb1b6c3a",
   "metadata": {},
   "outputs": [],
   "source": []
  },
  {
   "cell_type": "code",
   "execution_count": 16,
   "id": "05201212-ed37-46ba-be70-1674986110c0",
   "metadata": {},
   "outputs": [],
   "source": [
    "date = datetime.date(2020, 5, 15)"
   ]
  },
  {
   "cell_type": "code",
   "execution_count": 18,
   "id": "041a0364-68e6-416b-a6ab-49c401861429",
   "metadata": {},
   "outputs": [
    {
     "data": {
      "text/plain": [
       "datetime.date"
      ]
     },
     "execution_count": 18,
     "metadata": {},
     "output_type": "execute_result"
    }
   ],
   "source": [
    "type(date)"
   ]
  },
  {
   "cell_type": "code",
   "execution_count": 19,
   "id": "0cb9dc95-e120-4c64-9c50-48a47cdd923b",
   "metadata": {},
   "outputs": [
    {
     "ename": "AttributeError",
     "evalue": "'str' object has no attribute 'datetime'",
     "output_type": "error",
     "traceback": [
      "\u001b[1;31m---------------------------------------------------------------------------\u001b[0m",
      "\u001b[1;31mAttributeError\u001b[0m                            Traceback (most recent call last)",
      "Input \u001b[1;32mIn [19]\u001b[0m, in \u001b[0;36m<cell line: 1>\u001b[1;34m()\u001b[0m\n\u001b[1;32m----> 1\u001b[0m \u001b[38;5;124;43m'\u001b[39;49m\u001b[38;5;124;43m2018-08-07\u001b[39;49m\u001b[38;5;124;43m'\u001b[39;49m\u001b[38;5;241;43m.\u001b[39;49m\u001b[43mdatetime\u001b[49m\u001b[38;5;241m.\u001b[39mstrftime(\u001b[38;5;124m'\u001b[39m\u001b[38;5;124m%\u001b[39m\u001b[38;5;124mY-\u001b[39m\u001b[38;5;124m%\u001b[39m\u001b[38;5;124mm\u001b[39m\u001b[38;5;124m'\u001b[39m)\n",
      "\u001b[1;31mAttributeError\u001b[0m: 'str' object has no attribute 'datetime'"
     ]
    }
   ],
   "source": []
  },
  {
   "cell_type": "code",
   "execution_count": 11,
   "id": "5268fa6c-1782-472e-931b-4f32c4689602",
   "metadata": {},
   "outputs": [
    {
     "data": {
      "text/html": [
       "<div>\n",
       "<style scoped>\n",
       "    .dataframe tbody tr th:only-of-type {\n",
       "        vertical-align: middle;\n",
       "    }\n",
       "\n",
       "    .dataframe tbody tr th {\n",
       "        vertical-align: top;\n",
       "    }\n",
       "\n",
       "    .dataframe thead th {\n",
       "        text-align: right;\n",
       "    }\n",
       "</style>\n",
       "<table border=\"1\" class=\"dataframe\">\n",
       "  <thead>\n",
       "    <tr style=\"text-align: right;\">\n",
       "      <th></th>\n",
       "      <th>sku_name</th>\n",
       "      <th>sellout</th>\n",
       "      <th>month</th>\n",
       "      <th>year</th>\n",
       "    </tr>\n",
       "  </thead>\n",
       "  <tbody>\n",
       "    <tr>\n",
       "      <th>0</th>\n",
       "      <td>YOSHWARDTERR</td>\n",
       "      <td>1013</td>\n",
       "      <td>7</td>\n",
       "      <td>2016</td>\n",
       "    </tr>\n",
       "    <tr>\n",
       "      <th>1</th>\n",
       "      <td>YOSHWARDTERR</td>\n",
       "      <td>0</td>\n",
       "      <td>2</td>\n",
       "      <td>2017</td>\n",
       "    </tr>\n",
       "    <tr>\n",
       "      <th>2</th>\n",
       "      <td>YOSHWARDTERR</td>\n",
       "      <td>1013</td>\n",
       "      <td>5</td>\n",
       "      <td>2017</td>\n",
       "    </tr>\n",
       "    <tr>\n",
       "      <th>3</th>\n",
       "      <td>YOSHUANEMARX</td>\n",
       "      <td>56728</td>\n",
       "      <td>4</td>\n",
       "      <td>2018</td>\n",
       "    </tr>\n",
       "    <tr>\n",
       "      <th>4</th>\n",
       "      <td>YOSHUANEMARX</td>\n",
       "      <td>90157</td>\n",
       "      <td>5</td>\n",
       "      <td>2018</td>\n",
       "    </tr>\n",
       "    <tr>\n",
       "      <th>...</th>\n",
       "      <td>...</td>\n",
       "      <td>...</td>\n",
       "      <td>...</td>\n",
       "      <td>...</td>\n",
       "    </tr>\n",
       "    <tr>\n",
       "      <th>43229</th>\n",
       "      <td>ABEAHAMASHL</td>\n",
       "      <td>25325</td>\n",
       "      <td>6</td>\n",
       "      <td>2021</td>\n",
       "    </tr>\n",
       "    <tr>\n",
       "      <th>43230</th>\n",
       "      <td>ABEAHAMASHL</td>\n",
       "      <td>38494</td>\n",
       "      <td>7</td>\n",
       "      <td>2021</td>\n",
       "    </tr>\n",
       "    <tr>\n",
       "      <th>43231</th>\n",
       "      <td>ABEAHAMASHL</td>\n",
       "      <td>56728</td>\n",
       "      <td>8</td>\n",
       "      <td>2021</td>\n",
       "    </tr>\n",
       "    <tr>\n",
       "      <th>43232</th>\n",
       "      <td>ABEAHAMASHL</td>\n",
       "      <td>65845</td>\n",
       "      <td>9</td>\n",
       "      <td>2021</td>\n",
       "    </tr>\n",
       "    <tr>\n",
       "      <th>43233</th>\n",
       "      <td>ABEAHAMASHL</td>\n",
       "      <td>29377</td>\n",
       "      <td>10</td>\n",
       "      <td>2021</td>\n",
       "    </tr>\n",
       "  </tbody>\n",
       "</table>\n",
       "<p>43234 rows × 4 columns</p>\n",
       "</div>"
      ],
      "text/plain": [
       "           sku_name  sellout  month  year\n",
       "0      YOSHWARDTERR     1013      7  2016\n",
       "1      YOSHWARDTERR        0      2  2017\n",
       "2      YOSHWARDTERR     1013      5  2017\n",
       "3      YOSHUANEMARX    56728      4  2018\n",
       "4      YOSHUANEMARX    90157      5  2018\n",
       "...             ...      ...    ...   ...\n",
       "43229   ABEAHAMASHL    25325      6  2021\n",
       "43230   ABEAHAMASHL    38494      7  2021\n",
       "43231   ABEAHAMASHL    56728      8  2021\n",
       "43232   ABEAHAMASHL    65845      9  2021\n",
       "43233   ABEAHAMASHL    29377     10  2021\n",
       "\n",
       "[43234 rows x 4 columns]"
      ]
     },
     "execution_count": 11,
     "metadata": {},
     "output_type": "execute_result"
    }
   ],
   "source": [
    "train."
   ]
  },
  {
   "cell_type": "code",
   "execution_count": null,
   "id": "8aeb5b80-e1d8-4d2a-8e44-4b64d83fb3dd",
   "metadata": {},
   "outputs": [],
   "source": []
  },
  {
   "cell_type": "code",
   "execution_count": null,
   "id": "c1928252-17eb-4a74-bf99-ff3e6574f80c",
   "metadata": {},
   "outputs": [],
   "source": []
  },
  {
   "cell_type": "code",
   "execution_count": null,
   "id": "e6b612e9-fe7e-46a9-8d78-51ddfce9cadb",
   "metadata": {},
   "outputs": [],
   "source": []
  },
  {
   "cell_type": "code",
   "execution_count": 31,
   "id": "e36bdfa3-d098-4942-9f8f-fd492866e353",
   "metadata": {},
   "outputs": [
    {
     "data": {
      "text/html": [
       "<div>\n",
       "<style scoped>\n",
       "    .dataframe tbody tr th:only-of-type {\n",
       "        vertical-align: middle;\n",
       "    }\n",
       "\n",
       "    .dataframe tbody tr th {\n",
       "        vertical-align: top;\n",
       "    }\n",
       "\n",
       "    .dataframe thead th {\n",
       "        text-align: right;\n",
       "    }\n",
       "</style>\n",
       "<table border=\"1\" class=\"dataframe\">\n",
       "  <thead>\n",
       "    <tr style=\"text-align: right;\">\n",
       "      <th></th>\n",
       "      <th>ds</th>\n",
       "      <th>y</th>\n",
       "    </tr>\n",
       "  </thead>\n",
       "  <tbody>\n",
       "    <tr>\n",
       "      <th>0</th>\n",
       "      <td>1992-01-01</td>\n",
       "      <td>146376</td>\n",
       "    </tr>\n",
       "    <tr>\n",
       "      <th>1</th>\n",
       "      <td>1992-02-01</td>\n",
       "      <td>147079</td>\n",
       "    </tr>\n",
       "    <tr>\n",
       "      <th>2</th>\n",
       "      <td>1992-03-01</td>\n",
       "      <td>159336</td>\n",
       "    </tr>\n",
       "    <tr>\n",
       "      <th>3</th>\n",
       "      <td>1992-04-01</td>\n",
       "      <td>163669</td>\n",
       "    </tr>\n",
       "    <tr>\n",
       "      <th>4</th>\n",
       "      <td>1992-05-01</td>\n",
       "      <td>170068</td>\n",
       "    </tr>\n",
       "  </tbody>\n",
       "</table>\n",
       "</div>"
      ],
      "text/plain": [
       "           ds       y\n",
       "0  1992-01-01  146376\n",
       "1  1992-02-01  147079\n",
       "2  1992-03-01  159336\n",
       "3  1992-04-01  163669\n",
       "4  1992-05-01  170068"
      ]
     },
     "execution_count": 31,
     "metadata": {},
     "output_type": "execute_result"
    }
   ],
   "source": [
    "\n",
    "# Python\n",
    "df = pd.read_csv('https://raw.githubusercontent.com/facebook/prophet/main/examples/example_retail_sales.csv')\n",
    "df.head()"
   ]
  },
  {
   "cell_type": "code",
   "execution_count": 34,
   "id": "e438182a-1a73-42b3-b708-d5c1d310f05f",
   "metadata": {},
   "outputs": [
    {
     "name": "stderr",
     "output_type": "stream",
     "text": [
      "INFO:prophet:Disabling weekly seasonality. Run prophet with weekly_seasonality=True to override this.\n",
      "INFO:prophet:Disabling daily seasonality. Run prophet with daily_seasonality=True to override this.\n",
      "C:\\Users\\egand\\anaconda3\\lib\\site-packages\\prophet\\forecaster.py:896: FutureWarning: The frame.append method is deprecated and will be removed from pandas in a future version. Use pandas.concat instead.\n",
      "  components = components.append(new_comp)\n"
     ]
    },
    {
     "data": {
      "text/plain": [
       "<prophet.forecaster.Prophet at 0x1d71c26ecd0>"
      ]
     },
     "execution_count": 34,
     "metadata": {},
     "output_type": "execute_result"
    }
   ],
   "source": [
    "m = Prophet()\n",
    "m.fit(df)"
   ]
  },
  {
   "cell_type": "code",
   "execution_count": 37,
   "id": "2f20ee27-e452-4b7d-b4e9-d03ac0e679b6",
   "metadata": {},
   "outputs": [],
   "source": [
    "future = m.make_future_dataframe(periods=365)"
   ]
  },
  {
   "cell_type": "code",
   "execution_count": 46,
   "id": "b0d845b5-2510-4277-bcb9-f36b74210a44",
   "metadata": {},
   "outputs": [
    {
     "name": "stderr",
     "output_type": "stream",
     "text": [
      "C:\\Users\\egand\\anaconda3\\lib\\site-packages\\prophet\\forecaster.py:896: FutureWarning: The frame.append method is deprecated and will be removed from pandas in a future version. Use pandas.concat instead.\n",
      "  components = components.append(new_comp)\n",
      "C:\\Users\\egand\\anaconda3\\lib\\site-packages\\prophet\\forecaster.py:896: FutureWarning: The frame.append method is deprecated and will be removed from pandas in a future version. Use pandas.concat instead.\n",
      "  components = components.append(new_comp)\n"
     ]
    }
   ],
   "source": [
    "forecast = m.predict(future)"
   ]
  },
  {
   "cell_type": "code",
   "execution_count": 45,
   "id": "404028e1-9862-4a7c-b79a-702bb7f20a94",
   "metadata": {},
   "outputs": [
    {
     "data": {
      "text/plain": [
       "Timestamp('2017-01-01 00:00:00')"
      ]
     },
     "execution_count": 45,
     "metadata": {},
     "output_type": "execute_result"
    }
   ],
   "source": [
    "pd.Timestamp(2017, 1,1)"
   ]
  }
 ],
 "metadata": {
  "kernelspec": {
   "display_name": "Python 3 (ipykernel)",
   "language": "python",
   "name": "python3"
  },
  "language_info": {
   "codemirror_mode": {
    "name": "ipython",
    "version": 3
   },
   "file_extension": ".py",
   "mimetype": "text/x-python",
   "name": "python",
   "nbconvert_exporter": "python",
   "pygments_lexer": "ipython3",
   "version": "3.9.12"
  }
 },
 "nbformat": 4,
 "nbformat_minor": 5
}
