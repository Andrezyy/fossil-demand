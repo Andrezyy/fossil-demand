{
 "cells": [
  {
   "cell_type": "code",
   "execution_count": 5,
   "id": "f945b5bd-5832-4993-bbda-9c8b1f1ec9f9",
   "metadata": {},
   "outputs": [],
   "source": [
    "import numpy as np\n",
    "import pandas as pd\n",
    "import matplotlib.pyplot as plt\n",
    "import seaborn as sns\n",
    "from tqdm.notebook import tqdm\n",
    "from IPython.display import clear_output\n",
    "import os\n",
    "import random\n",
    "import itertools"
   ]
  },
  {
   "cell_type": "code",
   "execution_count": 57,
   "id": "75194891-1090-49ab-bbc3-3687eb210304",
   "metadata": {},
   "outputs": [],
   "source": [
    "from prophet import Prophet\n",
    "from lightgbm import LGBMRegressor\n",
    "from catboost import CatBoostRegressor\n",
    "from xgboost import XGBRegressor\n",
    "from sklearn.model_selection import train_test_split\n",
    "\n",
    "from sklego.preprocessing import RepeatingBasisFunction"
   ]
  },
  {
   "cell_type": "markdown",
   "id": "42dfd86e-b14d-487a-a342-32355d1e6e3d",
   "metadata": {},
   "source": [
    "date_column"
   ]
  },
  {
   "cell_type": "code",
   "execution_count": 3,
   "id": "74303079-cdbe-423b-bb35-30855bb5a557",
   "metadata": {
    "jupyter": {
     "source_hidden": true
    },
    "tags": []
   },
   "outputs": [],
   "source": [
    "def date_column(x):\n",
    "    y = x['year']\n",
    "    m = x['month']\n",
    "    return pd.Timestamp(y, m, 1)\n",
    "\n",
    "def date_column_2(x):\n",
    "    y = x['year']\n",
    "    m = x['month']\n",
    "    if y in [2016,2017,2018,2019]:\n",
    "        return pd.Timestamp(y + 1, m, 1)\n",
    "    else:\n",
    "        return pd.Timestamp(y, m, 1)"
   ]
  },
  {
   "cell_type": "code",
   "execution_count": 315,
   "id": "e03273de-8abd-4f73-a9f7-3a6dcb22f2b6",
   "metadata": {},
   "outputs": [],
   "source": [
    "train = pd.read_csv(r\"New_train.csv\")\n",
    "test = pd.read_csv(r\"Test.csv\")"
   ]
  },
  {
   "cell_type": "markdown",
   "id": "516dc6ae-a2da-46be-8a24-88c25fc41a7d",
   "metadata": {},
   "source": [
    "### Feature engineering"
   ]
  },
  {
   "cell_type": "code",
   "execution_count": 316,
   "id": "c8137d4a-d682-401b-8eec-9e7549f9303c",
   "metadata": {},
   "outputs": [],
   "source": [
    "train['ds'] = train.apply(func = date_column, axis=1)\n",
    "test['ds'] = test.apply(func = date_column, axis=1)\n",
    "#train['ds'] = train.apply(func = date_column_2, axis=1)"
   ]
  },
  {
   "cell_type": "markdown",
   "id": "6de67c88-8f3a-4c88-8f50-341fd2ff221a",
   "metadata": {},
   "source": [
    "**New features**\n",
    "- sellin median\n",
    "- product_lifecycle_stage"
   ]
  },
  {
   "cell_type": "code",
   "execution_count": 317,
   "id": "98ac13fe-6a4d-4617-beb6-2494758f02c0",
   "metadata": {},
   "outputs": [],
   "source": [
    "new_train_list = []\n",
    "sku_groups = train.groupby(by = 'sku_name')\n",
    "for sku_name, group in sku_groups:\n",
    "    group.loc[:,'sellin_median'] = np.median(train[train.sku_name == sku_name].sellin)\n",
    "    if len(new_train_list)==0:\n",
    "        new_train_list = [group.copy()]\n",
    "    else:\n",
    "        new_train_list.append(group.copy())\n",
    "train = pd.concat(new_train_list).reset_index(drop=True)"
   ]
  },
  {
   "cell_type": "code",
   "execution_count": 318,
   "id": "5d6f5982-3a78-4767-9df7-951b484a51e8",
   "metadata": {},
   "outputs": [],
   "source": [
    "new_test_list = []\n",
    "sku_groups = test.groupby(by = 'sku_name')\n",
    "for sku_name, group in sku_groups:\n",
    "    try:\n",
    "        max_date = max(train[train.sku_name == sku_name].ds)\n",
    "        index = train[(train.sku_name == sku_name) & (train.ds == max_date)].index\n",
    "        group.loc[:,'product_lifecycle_stage'] = train.loc[index, 'product_lifecycle_stage'].item()\n",
    "        group.loc[:,'sellin_median'] = np.median(train[train.sku_name == sku_name].sellin)\n",
    "    except:\n",
    "        group.loc[:,'product_lifecycle_stage'] = 'U'\n",
    "        group.loc[:,'sellin_median'] = 30000\n",
    "    if len(new_test_list)==0:\n",
    "        new_test_list = [group.copy()]\n",
    "    else:\n",
    "        new_test_list.append(group.copy())\n",
    "test = pd.concat(new_test_list).reset_index(drop=True)"
   ]
  },
  {
   "cell_type": "markdown",
   "id": "05ab3cd1-ae70-4dd2-8363-8d029ee0ec0f",
   "metadata": {},
   "source": [
    "- sellout general trend"
   ]
  },
  {
   "cell_type": "code",
   "execution_count": 319,
   "id": "5d4bd826-931d-47ed-8b37-a04786b1e5ce",
   "metadata": {},
   "outputs": [
    {
     "name": "stderr",
     "output_type": "stream",
     "text": [
      "C:\\Users\\egand\\anaconda3\\lib\\site-packages\\prophet\\forecaster.py:896: FutureWarning: The frame.append method is deprecated and will be removed from pandas in a future version. Use pandas.concat instead.\n",
      "  components = components.append(new_comp)\n",
      "C:\\Users\\egand\\anaconda3\\lib\\site-packages\\prophet\\forecaster.py:896: FutureWarning: The frame.append method is deprecated and will be removed from pandas in a future version. Use pandas.concat instead.\n",
      "  components = components.append(new_comp)\n",
      "C:\\Users\\egand\\anaconda3\\lib\\site-packages\\prophet\\forecaster.py:896: FutureWarning: The frame.append method is deprecated and will be removed from pandas in a future version. Use pandas.concat instead.\n",
      "  components = components.append(new_comp)\n"
     ]
    }
   ],
   "source": [
    "temp = pd.DataFrame()\n",
    "for sku_name in test.sku_name.unique():\n",
    "    sku_temp =  train[train.sku_name == sku_name]\n",
    "    if sku_temp.shape[0]>=40:\n",
    "        temp = pd.concat([temp, sku_temp])\n",
    "temp['y'] = temp['sellout']\n",
    "prophet = Prophet(yearly_seasonality=3, daily_seasonality=False, weekly_seasonality=False, seasonality_mode = 'multiplicative', n_changepoints = 0)\n",
    "prophet.fit(temp)\n",
    "future = prophet.make_future_dataframe(periods=4, freq = 'MS')\n",
    "forecast = prophet.predict(future)\n",
    "serie = forecast['yhat']\n",
    "index = forecast['ds']\n",
    "a = [1]+[serie[i+1]/serie[i] for i in range(0, len(serie)-1)]\n",
    "coefs_for_next_observs = pd.Series(data=a, index = index)"
   ]
  },
  {
   "cell_type": "code",
   "execution_count": 320,
   "id": "0f6cde5c-6600-4d1e-a532-0a1aaf043b60",
   "metadata": {},
   "outputs": [],
   "source": [
    "train_sku_groups = train.groupby(by = 'sku_name')\n",
    "cum_coefs_by_sku={}\n",
    "new_train_list = []\n",
    "\n",
    "for sku_name, group in train_sku_groups:\n",
    "    \n",
    "    #выясняем min date и sellout этой даты, если он равен 0 ты ищем дальше, так как если использовать 0 то все последующие значения будут тоже нулевые\n",
    "    #если sellout отличный от нуля найти не получилось, то пусть будут везде нули. Хорошо.\n",
    "    min_date = min(group.ds).asm8.astype('datetime64[M]')\n",
    "    elem = group[group.ds == min_date].sellout.item()\n",
    "    if elem == 0:\n",
    "        other_dates = group.ds[1:]\n",
    "        for date in other_dates:\n",
    "            if group[group.ds == date].sellout.item() != 0:\n",
    "                min_date = date\n",
    "                elem = group[group.ds == date].sellout.item()\n",
    "                break\n",
    "    \n",
    "    cumulative_coefs =  np.cumprod(coefs_for_next_observs[min_date:])\n",
    "    cumulative_coefs[0] = 1\n",
    "    for idx, row in group.iterrows():\n",
    "        if row['ds']<min_date:\n",
    "            group.loc[idx,'sellout_general_trend'] = 0\n",
    "        else:\n",
    "            group.loc[idx,'sellout_general_trend'] = elem * cumulative_coefs[row['ds']]\n",
    "        \n",
    "    cum_coefs_by_sku[sku_name] = (elem, cumulative_coefs)\n",
    "    if len(new_train_list)==0:\n",
    "        new_train_list = [group.copy()]\n",
    "    else:\n",
    "        new_train_list.append(group.copy())\n",
    "train = pd.concat(new_train_list).reset_index(drop=True)\n",
    "\n",
    "\n",
    "test_sku_groups = test.groupby(by = 'sku_name')\n",
    "new_test_list = []\n",
    "for sku_name, group in test_sku_groups:\n",
    "    try: \n",
    "        elem, cumulative_coefs = cum_coefs_by_sku[sku_name]\n",
    "        for idx, row in group.iterrows():\n",
    "            group.loc[idx,'sellout_general_trend'] = elem * cumulative_coefs[row['ds']]\n",
    "    except:\n",
    "        for idx, row in group.iterrows():\n",
    "            group.loc[idx,'sellout_general_trend'] = 0\n",
    "    if len(new_test_list)==0:\n",
    "        new_test_list = [group.copy()]\n",
    "    else:\n",
    "        new_test_list.append(group.copy())\n",
    "test = pd.concat(new_test_list).reset_index(drop=True)"
   ]
  },
  {
   "cell_type": "markdown",
   "id": "00b783bb-6097-4e88-9901-b4ceb013edb6",
   "metadata": {},
   "source": [
    "RFB"
   ]
  },
  {
   "cell_type": "code",
   "execution_count": 282,
   "id": "6bd4edab-5622-4602-ad74-8810cc783f2d",
   "metadata": {},
   "outputs": [],
   "source": [
    "rbf = RepeatingBasisFunction(n_periods=12,\n",
    "                             #remainder='passthrough',\n",
    "                             column='month',\n",
    "                             input_range=(1,12))\n",
    "rbf.fit(train)\n",
    "rfb_columns = [f'month_rfb_{i}' for i in range(12)]\n",
    "rfb_train = pd.DataFrame(index=train.index, data=rbf.transform(train), columns = rfb_columns)\n",
    "train = pd.concat([train,rfb_train],axis=1)\n",
    "\n",
    "rfb_test = pd.DataFrame(index=test.index, data=rbf.transform(test), columns = rfb_columns)\n",
    "test = pd.concat([test,rfb_test],axis=1)"
   ]
  },
  {
   "cell_type": "code",
   "execution_count": 321,
   "id": "915fbcb3-dc01-4196-b377-9f8b967b7749",
   "metadata": {
    "tags": []
   },
   "outputs": [
    {
     "data": {
      "text/html": [
       "<div>\n",
       "<style scoped>\n",
       "    .dataframe tbody tr th:only-of-type {\n",
       "        vertical-align: middle;\n",
       "    }\n",
       "\n",
       "    .dataframe tbody tr th {\n",
       "        vertical-align: top;\n",
       "    }\n",
       "\n",
       "    .dataframe thead th {\n",
       "        text-align: right;\n",
       "    }\n",
       "</style>\n",
       "<table border=\"1\" class=\"dataframe\">\n",
       "  <thead>\n",
       "    <tr style=\"text-align: right;\">\n",
       "      <th></th>\n",
       "      <th>sku_name</th>\n",
       "      <th>month</th>\n",
       "      <th>year</th>\n",
       "      <th>CAT_GENDER_BOTH</th>\n",
       "      <th>CAT_GENDER_MEN</th>\n",
       "      <th>CAT_GENDER_WOMEN</th>\n",
       "      <th>ds</th>\n",
       "      <th>product_lifecycle_stage</th>\n",
       "      <th>sellin_median</th>\n",
       "      <th>sellout_general_trend</th>\n",
       "    </tr>\n",
       "  </thead>\n",
       "  <tbody>\n",
       "    <tr>\n",
       "      <th>0</th>\n",
       "      <td>ABEAHAMASHL</td>\n",
       "      <td>11</td>\n",
       "      <td>2021</td>\n",
       "      <td>0</td>\n",
       "      <td>0</td>\n",
       "      <td>1</td>\n",
       "      <td>2021-11-01</td>\n",
       "      <td>W</td>\n",
       "      <td>252237.0</td>\n",
       "      <td>101202.583856</td>\n",
       "    </tr>\n",
       "    <tr>\n",
       "      <th>1</th>\n",
       "      <td>ABEAHAMASHL</td>\n",
       "      <td>12</td>\n",
       "      <td>2021</td>\n",
       "      <td>0</td>\n",
       "      <td>0</td>\n",
       "      <td>1</td>\n",
       "      <td>2021-12-01</td>\n",
       "      <td>W</td>\n",
       "      <td>252237.0</td>\n",
       "      <td>115292.731368</td>\n",
       "    </tr>\n",
       "    <tr>\n",
       "      <th>2</th>\n",
       "      <td>ABEAHAMASHL</td>\n",
       "      <td>1</td>\n",
       "      <td>2022</td>\n",
       "      <td>0</td>\n",
       "      <td>0</td>\n",
       "      <td>1</td>\n",
       "      <td>2022-01-01</td>\n",
       "      <td>W</td>\n",
       "      <td>252237.0</td>\n",
       "      <td>67958.969958</td>\n",
       "    </tr>\n",
       "    <tr>\n",
       "      <th>3</th>\n",
       "      <td>ABEAHAMASHL</td>\n",
       "      <td>2</td>\n",
       "      <td>2022</td>\n",
       "      <td>0</td>\n",
       "      <td>0</td>\n",
       "      <td>1</td>\n",
       "      <td>2022-02-01</td>\n",
       "      <td>W</td>\n",
       "      <td>252237.0</td>\n",
       "      <td>25758.615822</td>\n",
       "    </tr>\n",
       "    <tr>\n",
       "      <th>4</th>\n",
       "      <td>ABEENNEARMAZZ</td>\n",
       "      <td>11</td>\n",
       "      <td>2021</td>\n",
       "      <td>0</td>\n",
       "      <td>0</td>\n",
       "      <td>1</td>\n",
       "      <td>2021-11-01</td>\n",
       "      <td>W</td>\n",
       "      <td>219821.0</td>\n",
       "      <td>10650.961414</td>\n",
       "    </tr>\n",
       "  </tbody>\n",
       "</table>\n",
       "</div>"
      ],
      "text/plain": [
       "        sku_name  month  year  CAT_GENDER_BOTH  CAT_GENDER_MEN  \\\n",
       "0    ABEAHAMASHL     11  2021                0               0   \n",
       "1    ABEAHAMASHL     12  2021                0               0   \n",
       "2    ABEAHAMASHL      1  2022                0               0   \n",
       "3    ABEAHAMASHL      2  2022                0               0   \n",
       "4  ABEENNEARMAZZ     11  2021                0               0   \n",
       "\n",
       "   CAT_GENDER_WOMEN         ds product_lifecycle_stage  sellin_median  \\\n",
       "0                 1 2021-11-01                       W       252237.0   \n",
       "1                 1 2021-12-01                       W       252237.0   \n",
       "2                 1 2022-01-01                       W       252237.0   \n",
       "3                 1 2022-02-01                       W       252237.0   \n",
       "4                 1 2021-11-01                       W       219821.0   \n",
       "\n",
       "   sellout_general_trend  \n",
       "0          101202.583856  \n",
       "1          115292.731368  \n",
       "2           67958.969958  \n",
       "3           25758.615822  \n",
       "4           10650.961414  "
      ]
     },
     "execution_count": 321,
     "metadata": {},
     "output_type": "execute_result"
    }
   ],
   "source": [
    "test.head()"
   ]
  },
  {
   "cell_type": "markdown",
   "id": "d78fb096-e4d0-4ff4-97a6-260849a1f4dd",
   "metadata": {},
   "source": [
    "### catboost"
   ]
  },
  {
   "cell_type": "markdown",
   "id": "a751f22a-79d7-4bc9-921d-5c9c95b3ad1a",
   "metadata": {},
   "source": [
    "**Попытка 1**\n",
    "- Добавить product_lifecycle_stage (дополнить тестовые записи последним lifecycle_stage из трейна)"
   ]
  },
  {
   "cell_type": "code",
   "execution_count": null,
   "id": "172df971-2526-42ab-9e94-81d948d77b2f",
   "metadata": {},
   "outputs": [],
   "source": [
    "features = ['CAT_GENDER_BOTH','CAT_GENDER_MEN','CAT_GENDER_WOMEN','month','year','product_lifecycle_stage']\n",
    "cat_cols = ['CAT_GENDER_BOTH','CAT_GENDER_MEN','CAT_GENDER_WOMEN','month','year','product_lifecycle_stage']"
   ]
  },
  {
   "cell_type": "markdown",
   "id": "566c8101-beed-493f-97f6-202911e98933",
   "metadata": {},
   "source": [
    "Результаты:\n",
    "- Ошибка на кросс валидации 185-190к\n",
    "- Ошибка на тесте 233к"
   ]
  },
  {
   "cell_type": "markdown",
   "id": "14d9027f-4b27-480d-b825-829c2290e991",
   "metadata": {},
   "source": [
    "**Попытка 2**\n",
    "- Добавить product_lifecycle_stage (дополнить тестовые записи последним lifecycle_stage из трейна)\n",
    "- Добавить sellin_median (медианы товаров)"
   ]
  },
  {
   "cell_type": "code",
   "execution_count": null,
   "id": "07d097da-8c33-43f8-a971-1bad029e2249",
   "metadata": {},
   "outputs": [],
   "source": [
    "features = ['CAT_GENDER_BOTH','CAT_GENDER_MEN','CAT_GENDER_WOMEN','month','year','product_lifecycle_stage','sellin_median']\n",
    "cat_cols = ['CAT_GENDER_BOTH','CAT_GENDER_MEN','CAT_GENDER_WOMEN','month','year','product_lifecycle_stage']"
   ]
  },
  {
   "cell_type": "markdown",
   "id": "51b19ee7-9456-4c80-94e8-faa12f6e819b",
   "metadata": {},
   "source": [
    "Результаты:\n",
    "- модель: lr 0.1, n_est 1000, l2 1, depth 10\n",
    "- Ошибка на кросс валидации 125-140к\n",
    "- Ошибка на тесте 174к (172к если взять модуль предсказаний)"
   ]
  },
  {
   "cell_type": "markdown",
   "id": "9c563107-e1a6-4f21-b6cc-8c3e0af3f29a",
   "metadata": {},
   "source": [
    "**Попытка 3**\n",
    "- Добавить product_lifecycle_stage (дополнить тестовые записи последним lifecycle_stage из трейна)\n",
    "- Добавить sellin_median (медианы товаров)\n",
    "- Закодировать month radial basis functions (RFB)"
   ]
  },
  {
   "cell_type": "code",
   "execution_count": null,
   "id": "3fb6aaea-9087-4378-a314-94ad01b608b8",
   "metadata": {},
   "outputs": [],
   "source": [
    "features =['CAT_GENDER_BOTH','CAT_GENDER_MEN','CAT_GENDER_WOMEN','year','month','product_lifecycle_stage','sellin_median'] + rfb_columns\n",
    "cat_cols = ['CAT_GENDER_BOTH','CAT_GENDER_MEN','CAT_GENDER_WOMEN','year','month','product_lifecycle_stage']"
   ]
  },
  {
   "cell_type": "markdown",
   "id": "e0236599-5038-40ae-ac35-2c9d632dcb27",
   "metadata": {},
   "source": [
    "Результаты:\n",
    "- модель: n_estimators = 1000, lr=0.1, l2 = 6, depth = 8\n",
    "- Ошибка на кросс валидации 125-135к\n",
    "- Ошибка на тесте 199k"
   ]
  },
  {
   "cell_type": "markdown",
   "id": "610d466f-a059-4a66-a6e5-0509992f064a",
   "metadata": {},
   "source": [
    "**Попытка 4**\n",
    "- Добавить product_lifecycle_stage (дополнить тестовые записи последним lifecycle_stage из трейна)\n",
    "- Добавить sellin_median (медианы товаров)\n",
    "- Добавить общий тренд sellout постороенный на тестовых товарах Prophet"
   ]
  },
  {
   "cell_type": "code",
   "execution_count": null,
   "id": "ef01bad9-bcd3-42d7-8f11-d663c4e5dfa9",
   "metadata": {},
   "outputs": [],
   "source": [
    "features = ['CAT_GENDER_BOTH','CAT_GENDER_MEN','CAT_GENDER_WOMEN','month','year','product_lifecycle_stage','sellin_median','sellout_general_trend']\n",
    "cat_cols = ['CAT_GENDER_BOTH','CAT_GENDER_MEN','CAT_GENDER_WOMEN','month','year','product_lifecycle_stage']"
   ]
  },
  {
   "cell_type": "markdown",
   "id": "a3c2aeec-e0f2-4074-80ae-003404ec3b3d",
   "metadata": {},
   "source": [
    "Результаты:\n",
    "- Ошибка на кросс валидации 130-135к\n",
    "- Ошибка на тесте 182к"
   ]
  },
  {
   "cell_type": "markdown",
   "id": "94fe4eaf-b1cf-4b24-9af7-2eb2d321612a",
   "metadata": {},
   "source": [
    "**Попытка 5**\n",
    "- Попытка 2 + но убрать признаки отвечюащие за пол, так как они всегда очень неважные"
   ]
  },
  {
   "cell_type": "code",
   "execution_count": 301,
   "id": "ad0028e3-192d-41ed-9930-39a21b898a69",
   "metadata": {},
   "outputs": [],
   "source": [
    "features = ['month','year','product_lifecycle_stage','sellin_median']\n",
    "cat_cols = ['month','year','product_lifecycle_stage']"
   ]
  },
  {
   "cell_type": "markdown",
   "id": "1ed30ef3-8716-4813-9536-d864ecb2c993",
   "metadata": {},
   "source": [
    "Результаты: (МЕГА УСПЕХ)\n",
    "- Ошибка на кросс валидации 130-135к\n",
    "- Ошибка на тесте 164к"
   ]
  },
  {
   "cell_type": "markdown",
   "id": "5786cc79-19db-45b7-a4b7-b1bf6d43a6b8",
   "metadata": {},
   "source": [
    "**Попытка 6**\n",
    "- Попытка 4 + но убрать признаки отвечюащие за пол, так как они всегда очень неважные"
   ]
  },
  {
   "cell_type": "code",
   "execution_count": 322,
   "id": "b444052a-d50d-4b47-8662-7cf895519392",
   "metadata": {},
   "outputs": [],
   "source": [
    "features = ['month','year','product_lifecycle_stage','sellin_median','sellout_general_trend']\n",
    "cat_cols = ['month','year','product_lifecycle_stage']"
   ]
  },
  {
   "cell_type": "code",
   "execution_count": null,
   "id": "5818f47e-38f7-4ce8-b05e-21914a026da6",
   "metadata": {},
   "outputs": [],
   "source": []
  },
  {
   "cell_type": "code",
   "execution_count": null,
   "id": "431cec6b-8cc6-4a50-aeb9-733bcc100b94",
   "metadata": {},
   "outputs": [],
   "source": []
  },
  {
   "cell_type": "code",
   "execution_count": null,
   "id": "0a72b985-9a0e-4568-8b7b-f223a9d92145",
   "metadata": {},
   "outputs": [],
   "source": []
  },
  {
   "cell_type": "code",
   "execution_count": 324,
   "id": "e0213e72-47cc-4d2e-a983-76f40ddff5f9",
   "metadata": {},
   "outputs": [],
   "source": [
    "y_train = train['sellin']\n",
    "x = train.drop(columns = 'sellin')"
   ]
  },
  {
   "cell_type": "code",
   "execution_count": 305,
   "id": "e5069b8d-b28b-4453-a31b-b9695cb5ade7",
   "metadata": {},
   "outputs": [],
   "source": [
    "model = CatBoostRegressor(early_stopping_rounds=250,\n",
    "                          grow_policy = 'Depthwise',\n",
    "                          loss_function='MAE',\n",
    "                          cat_features= cat_cols,\n",
    "                          verbose=False)\n",
    "params = {'l2_leaf_reg':[1,3,6],\n",
    "          'learning_rate': [0.1, 0.25, 0.5],\n",
    "          'depth':[8,10],\n",
    "          'n_estimators':range(500, 1001, 250)\n",
    "         }"
   ]
  },
  {
   "cell_type": "code",
   "execution_count": 306,
   "id": "c045096f-73ea-48db-9f28-934abe98b207",
   "metadata": {
    "collapsed": true,
    "jupyter": {
     "outputs_hidden": true
    },
    "tags": []
   },
   "outputs": [
    {
     "data": {
      "application/vnd.jupyter.widget-view+json": {
       "model_id": "3372155485b34264bb69650b8aa084fc",
       "version_major": 2,
       "version_minor": 0
      },
      "text/plain": [
       "MetricVisualizer(layout=Layout(align_self='stretch', height='500px'))"
      ]
     },
     "metadata": {},
     "output_type": "display_data"
    },
    {
     "name": "stdout",
     "output_type": "stream",
     "text": [
      "\n",
      "bestTest = 140793.6355\n",
      "bestIteration = 499\n",
      "\n",
      "0:\tloss: 140793.6355326\tbest: 140793.6355326 (0)\ttotal: 1m 8s\tremaining: 1h 20m 31s\n",
      "\n",
      "bestTest = 135959.6283\n",
      "bestIteration = 499\n",
      "\n",
      "1:\tloss: 135959.6282818\tbest: 135959.6282818 (1)\ttotal: 2m 38s\tremaining: 1h 32m 38s\n",
      "\n",
      "bestTest = 135875.0782\n",
      "bestIteration = 460\n",
      "\n",
      "2:\tloss: 135875.0782435\tbest: 135875.0782435 (2)\ttotal: 3m 58s\tremaining: 1h 31m 18s\n",
      "\n",
      "bestTest = 135285.9629\n",
      "bestIteration = 489\n",
      "\n",
      "3:\tloss: 135285.9629423\tbest: 135285.9629423 (3)\ttotal: 5m 23s\tremaining: 1h 31m 43s\n",
      "\n",
      "bestTest = 140871.9358\n",
      "bestIteration = 499\n",
      "\n",
      "4:\tloss: 140871.9357622\tbest: 135285.9629423 (3)\ttotal: 6m 27s\tremaining: 1h 26m 28s\n",
      "\n",
      "bestTest = 136027.5699\n",
      "bestIteration = 499\n",
      "\n",
      "5:\tloss: 136027.5698598\tbest: 135285.9629423 (3)\ttotal: 7m 44s\tremaining: 1h 25m 14s\n",
      "\n",
      "bestTest = 135378.18\n",
      "bestIteration = 495\n",
      "\n",
      "6:\tloss: 135378.1800409\tbest: 135285.9629423 (3)\ttotal: 9m 15s\tremaining: 1h 25m 55s\n",
      "\n",
      "bestTest = 134371.4164\n",
      "bestIteration = 470\n",
      "\n",
      "7:\tloss: 134371.4163915\tbest: 134371.4163915 (7)\ttotal: 10m 44s\tremaining: 1h 25m 56s\n",
      "\n",
      "bestTest = 140640.2461\n",
      "bestIteration = 499\n",
      "\n",
      "8:\tloss: 140640.2460611\tbest: 134371.4163915 (7)\ttotal: 11m 54s\tremaining: 1h 23m 22s\n",
      "\n",
      "bestTest = 136203.004\n",
      "bestIteration = 491\n",
      "\n",
      "9:\tloss: 136203.0039580\tbest: 134371.4163915 (7)\ttotal: 13m 14s\tremaining: 1h 22m 5s\n",
      "\n",
      "bestTest = 134764.6869\n",
      "bestIteration = 493\n",
      "\n",
      "10:\tloss: 134764.6868570\tbest: 134371.4163915 (7)\ttotal: 14m 39s\tremaining: 1h 21m 18s\n",
      "\n",
      "bestTest = 135289.0809\n",
      "bestIteration = 499\n",
      "\n",
      "11:\tloss: 135289.0808595\tbest: 134371.4163915 (7)\ttotal: 16m 9s\tremaining: 1h 20m 49s\n",
      "\n",
      "bestTest = 139715.5692\n",
      "bestIteration = 749\n",
      "\n",
      "12:\tloss: 139715.5691846\tbest: 134371.4163915 (7)\ttotal: 18m 8s\tremaining: 1h 22m 18s\n",
      "\n",
      "bestTest = 135217.4504\n",
      "bestIteration = 749\n",
      "\n",
      "13:\tloss: 135217.4504283\tbest: 134371.4163915 (7)\ttotal: 20m 13s\tremaining: 1h 23m 47s\n",
      "\n",
      "bestTest = 135232.4742\n",
      "bestIteration = 735\n",
      "\n",
      "14:\tloss: 135232.4742297\tbest: 134371.4163915 (7)\ttotal: 22m 20s\tremaining: 1h 24m 53s\n",
      "\n",
      "bestTest = 134383.4936\n",
      "bestIteration = 687\n",
      "\n",
      "15:\tloss: 134383.4935528\tbest: 134371.4163915 (7)\ttotal: 24m 30s\tremaining: 1h 25m 46s\n",
      "\n",
      "bestTest = 139788.8158\n",
      "bestIteration = 749\n",
      "\n",
      "16:\tloss: 139788.8157774\tbest: 134371.4163915 (7)\ttotal: 26m 8s\tremaining: 1h 24m 34s\n",
      "\n",
      "bestTest = 135073.3312\n",
      "bestIteration = 748\n",
      "\n",
      "17:\tloss: 135073.3312226\tbest: 134371.4163915 (7)\ttotal: 28m 10s\tremaining: 1h 24m 32s\n",
      "\n",
      "bestTest = 134422.4872\n",
      "bestIteration = 721\n",
      "\n",
      "18:\tloss: 134422.4872276\tbest: 134371.4163915 (7)\ttotal: 30m 19s\tremaining: 1h 24m 35s\n",
      "Stopped by overfitting detector  (250 iterations wait)\n",
      "\n",
      "bestTest = 134371.4164\n",
      "bestIteration = 470\n",
      "\n",
      "19:\tloss: 134371.4163915\tbest: 134371.4163915 (7)\ttotal: 32m 24s\tremaining: 1h 24m 15s\n",
      "\n",
      "bestTest = 139523.0439\n",
      "bestIteration = 749\n",
      "\n",
      "20:\tloss: 139523.0438615\tbest: 134371.4163915 (7)\ttotal: 33m 59s\tremaining: 1h 22m 31s\n",
      "\n",
      "bestTest = 135659.0025\n",
      "bestIteration = 735\n",
      "\n",
      "21:\tloss: 135659.0025163\tbest: 134371.4163915 (7)\ttotal: 35m 59s\tremaining: 1h 21m 47s\n",
      "\n",
      "bestTest = 134204.2275\n",
      "bestIteration = 749\n",
      "\n",
      "22:\tloss: 134204.2275163\tbest: 134204.2275163 (22)\ttotal: 38m 3s\tremaining: 1h 21m 5s\n",
      "\n",
      "bestTest = 134977.7723\n",
      "bestIteration = 741\n",
      "\n",
      "23:\tloss: 134977.7722840\tbest: 134204.2275163 (22)\ttotal: 39m 58s\tremaining: 1h 19m 56s\n",
      "\n",
      "bestTest = 139182.4791\n",
      "bestIteration = 999\n",
      "\n",
      "24:\tloss: 139182.4791120\tbest: 134204.2275163 (22)\ttotal: 42m 11s\tremaining: 1h 19m 20s\n",
      "\n",
      "bestTest = 134747.2479\n",
      "bestIteration = 972\n",
      "\n",
      "25:\tloss: 134747.2479390\tbest: 134204.2275163 (22)\ttotal: 44m 34s\tremaining: 1h 18m 52s\n",
      "\n",
      "bestTest = 135163.2517\n",
      "bestIteration = 998\n",
      "\n",
      "26:\tloss: 135163.2516871\tbest: 134204.2275163 (22)\ttotal: 46m 47s\tremaining: 1h 17m 59s\n",
      "Stopped by overfitting detector  (250 iterations wait)\n",
      "\n",
      "bestTest = 134383.4936\n",
      "bestIteration = 687\n",
      "\n",
      "27:\tloss: 134383.4935528\tbest: 134204.2275163 (22)\ttotal: 48m 52s\tremaining: 1h 16m 48s\n",
      "\n",
      "bestTest = 139307.1821\n",
      "bestIteration = 999\n",
      "\n",
      "28:\tloss: 139307.1820866\tbest: 134204.2275163 (22)\ttotal: 50m 39s\tremaining: 1h 15m 6s\n",
      "\n",
      "bestTest = 134707.5747\n",
      "bestIteration = 993\n",
      "\n",
      "29:\tloss: 134707.5747317\tbest: 134204.2275163 (22)\ttotal: 52m 53s\tremaining: 1h 14m 3s\n",
      "\n",
      "bestTest = 134145.9395\n",
      "bestIteration = 918\n",
      "\n",
      "30:\tloss: 134145.9394825\tbest: 134145.9394825 (30)\ttotal: 55m 9s\tremaining: 1h 12m 56s\n",
      "Stopped by overfitting detector  (250 iterations wait)\n",
      "\n",
      "bestTest = 134371.4164\n",
      "bestIteration = 470\n",
      "\n",
      "31:\tloss: 134371.4163915\tbest: 134145.9394825 (30)\ttotal: 56m 44s\tremaining: 1h 10m 56s\n",
      "\n",
      "bestTest = 139086.6711\n",
      "bestIteration = 999\n",
      "\n",
      "32:\tloss: 139086.6711343\tbest: 134145.9394825 (30)\ttotal: 58m 31s\tremaining: 1h 9m 10s\n",
      "\n",
      "bestTest = 135093.7448\n",
      "bestIteration = 992\n",
      "\n",
      "33:\tloss: 135093.7448116\tbest: 134145.9394825 (30)\ttotal: 1h 45s\tremaining: 1h 7m 54s\n",
      "\n",
      "bestTest = 133658.0273\n",
      "bestIteration = 994\n",
      "\n",
      "34:\tloss: 133658.0272828\tbest: 133658.0272828 (34)\ttotal: 1h 3m 1s\tremaining: 1h 6m 37s\n",
      "\n",
      "bestTest = 134687.6945\n",
      "bestIteration = 876\n",
      "\n",
      "35:\tloss: 134687.6945260\tbest: 133658.0272828 (34)\ttotal: 1h 5m 19s\tremaining: 1h 5m 19s\n",
      "\n",
      "bestTest = 139196.4389\n",
      "bestIteration = 499\n",
      "\n",
      "36:\tloss: 139196.4388743\tbest: 133658.0272828 (34)\ttotal: 1h 7m 12s\tremaining: 1h 3m 34s\n",
      "\n",
      "bestTest = 133528.5826\n",
      "bestIteration = 499\n",
      "\n",
      "37:\tloss: 133528.5825505\tbest: 133528.5825505 (37)\ttotal: 1h 9m 20s\tremaining: 1h 2m 2s\n",
      "\n",
      "bestTest = 133291.0089\n",
      "bestIteration = 420\n",
      "\n",
      "38:\tloss: 133291.0088967\tbest: 133291.0088967 (38)\ttotal: 1h 11m 17s\tremaining: 1h 19s\n",
      "\n",
      "bestTest = 133526.3344\n",
      "bestIteration = 414\n",
      "\n",
      "39:\tloss: 133526.3344422\tbest: 133291.0088967 (38)\ttotal: 1h 13m 16s\tremaining: 58m 37s\n",
      "\n",
      "bestTest = 139010.0258\n",
      "bestIteration = 499\n",
      "\n",
      "40:\tloss: 139010.0258296\tbest: 133291.0088967 (38)\ttotal: 1h 15m 11s\tremaining: 56m 50s\n",
      "\n",
      "bestTest = 134976.9899\n",
      "bestIteration = 485\n",
      "\n",
      "41:\tloss: 134976.9899209\tbest: 133291.0088967 (38)\ttotal: 1h 17m 17s\tremaining: 55m 12s\n",
      "\n",
      "bestTest = 133549.4531\n",
      "bestIteration = 495\n",
      "\n",
      "42:\tloss: 133549.4530553\tbest: 133291.0088967 (38)\ttotal: 1h 19m 17s\tremaining: 53m 28s\n",
      "\n",
      "bestTest = 134286.2848\n",
      "bestIteration = 402\n",
      "\n",
      "43:\tloss: 134286.2848077\tbest: 133291.0088967 (38)\ttotal: 1h 21m 15s\tremaining: 51m 42s\n",
      "\n",
      "bestTest = 139003.2136\n",
      "bestIteration = 499\n",
      "\n",
      "44:\tloss: 139003.2135549\tbest: 133291.0088967 (38)\ttotal: 1h 23m 5s\tremaining: 49m 51s\n",
      "\n",
      "bestTest = 133741.3721\n",
      "bestIteration = 498\n",
      "\n",
      "45:\tloss: 133741.3721029\tbest: 133291.0088967 (38)\ttotal: 1h 25m 15s\tremaining: 48m 11s\n",
      "\n",
      "bestTest = 133919.3395\n",
      "bestIteration = 406\n",
      "\n",
      "46:\tloss: 133919.3395468\tbest: 133291.0088967 (38)\ttotal: 1h 27m 23s\tremaining: 46m 28s\n",
      "\n",
      "bestTest = 134263.2803\n",
      "bestIteration = 350\n",
      "\n",
      "47:\tloss: 134263.2803193\tbest: 133291.0088967 (38)\ttotal: 1h 29m 27s\tremaining: 44m 43s\n",
      "\n",
      "bestTest = 138238.0501\n",
      "bestIteration = 749\n",
      "\n",
      "48:\tloss: 138238.0501479\tbest: 133291.0088967 (38)\ttotal: 1h 32m 13s\tremaining: 43m 17s\n",
      "\n",
      "bestTest = 132691.1643\n",
      "bestIteration = 749\n",
      "\n",
      "49:\tloss: 132691.1642949\tbest: 132691.1642949 (49)\ttotal: 1h 35m 51s\tremaining: 42m 10s\n",
      "\n",
      "bestTest = 132996.8587\n",
      "bestIteration = 646\n",
      "\n",
      "50:\tloss: 132996.8587265\tbest: 132691.1642949 (49)\ttotal: 1h 39m 17s\tremaining: 40m 53s\n",
      "Stopped by overfitting detector  (250 iterations wait)\n",
      "\n",
      "bestTest = 133526.3344\n",
      "bestIteration = 414\n",
      "\n",
      "51:\tloss: 133526.3344422\tbest: 132691.1642949 (49)\ttotal: 1h 42m 44s\tremaining: 39m 30s\n",
      "\n",
      "bestTest = 138152.3851\n",
      "bestIteration = 749\n",
      "\n",
      "52:\tloss: 138152.3851349\tbest: 132691.1642949 (49)\ttotal: 1h 45m 42s\tremaining: 37m 53s\n",
      "\n",
      "bestTest = 134604.9806\n",
      "bestIteration = 748\n",
      "\n",
      "53:\tloss: 134604.9806237\tbest: 132691.1642949 (49)\ttotal: 1h 49m 14s\tremaining: 36m 24s\n",
      "\n",
      "bestTest = 132956.4728\n",
      "bestIteration = 733\n",
      "\n",
      "54:\tloss: 132956.4728039\tbest: 132691.1642949 (49)\ttotal: 1h 52m 26s\tremaining: 34m 45s\n",
      "Stopped by overfitting detector  (250 iterations wait)\n",
      "\n",
      "bestTest = 134286.2848\n",
      "bestIteration = 402\n",
      "\n",
      "55:\tloss: 134286.2848077\tbest: 132691.1642949 (49)\ttotal: 1h 55m 13s\tremaining: 32m 55s\n",
      "\n",
      "bestTest = 138146.2063\n",
      "bestIteration = 749\n",
      "\n",
      "56:\tloss: 138146.2062603\tbest: 132691.1642949 (49)\ttotal: 1h 58m 11s\tremaining: 31m 6s\n",
      "\n",
      "bestTest = 133269.2284\n",
      "bestIteration = 748\n",
      "\n",
      "57:\tloss: 133269.2283646\tbest: 132691.1642949 (49)\ttotal: 2h 1m 35s\tremaining: 29m 20s\n",
      "Stopped by overfitting detector  (250 iterations wait)\n",
      "\n",
      "bestTest = 133919.3395\n",
      "bestIteration = 406\n",
      "\n",
      "58:\tloss: 133919.3395468\tbest: 132691.1642949 (49)\ttotal: 2h 4m 33s\tremaining: 27m 26s\n",
      "\n",
      "bestTest = 134255.2231\n",
      "bestIteration = 536\n",
      "\n",
      "59:\tloss: 134255.2230832\tbest: 132691.1642949 (49)\ttotal: 2h 7m 58s\tremaining: 25m 35s\n",
      "\n",
      "bestTest = 137785.8922\n",
      "bestIteration = 999\n",
      "\n",
      "60:\tloss: 137785.8922272\tbest: 132691.1642949 (49)\ttotal: 2h 12m 1s\tremaining: 23m 48s\n",
      "\n",
      "bestTest = 132097.5447\n",
      "bestIteration = 985\n",
      "\n",
      "61:\tloss: 132097.5447284\tbest: 132097.5447284 (61)\ttotal: 2h 16m 23s\tremaining: 21m 59s\n",
      "Stopped by overfitting detector  (250 iterations wait)\n",
      "\n",
      "bestTest = 132996.8587\n",
      "bestIteration = 646\n",
      "\n",
      "62:\tloss: 132996.8587265\tbest: 132097.5447284 (61)\ttotal: 2h 20m 15s\tremaining: 20m 2s\n",
      "Stopped by overfitting detector  (250 iterations wait)\n",
      "\n",
      "bestTest = 133526.3344\n",
      "bestIteration = 414\n",
      "\n",
      "63:\tloss: 133526.3344422\tbest: 132097.5447284 (61)\ttotal: 2h 23m 4s\tremaining: 17m 53s\n",
      "\n",
      "bestTest = 137712.8787\n",
      "bestIteration = 999\n",
      "\n",
      "64:\tloss: 137712.8786792\tbest: 132097.5447284 (61)\ttotal: 2h 27m 5s\tremaining: 15m 50s\n",
      "\n",
      "bestTest = 134052.6645\n",
      "bestIteration = 999\n",
      "\n",
      "65:\tloss: 134052.6645484\tbest: 132097.5447284 (61)\ttotal: 2h 31m 23s\tremaining: 13m 45s\n",
      "\n",
      "bestTest = 132830.933\n",
      "bestIteration = 784\n",
      "\n",
      "66:\tloss: 132830.9330253\tbest: 132097.5447284 (61)\ttotal: 2h 35m 54s\tremaining: 11m 38s\n",
      "Stopped by overfitting detector  (250 iterations wait)\n",
      "\n",
      "bestTest = 134286.2848\n",
      "bestIteration = 402\n",
      "\n",
      "67:\tloss: 134286.2848077\tbest: 132097.5447284 (61)\ttotal: 2h 38m 42s\tremaining: 9m 20s\n",
      "\n",
      "bestTest = 137610.8776\n",
      "bestIteration = 999\n",
      "\n",
      "68:\tloss: 137610.8775571\tbest: 132097.5447284 (61)\ttotal: 2h 42m 44s\tremaining: 7m 4s\n",
      "\n",
      "bestTest = 132675.7353\n",
      "bestIteration = 998\n",
      "\n",
      "69:\tloss: 132675.7352574\tbest: 132097.5447284 (61)\ttotal: 2h 47m 14s\tremaining: 4m 46s\n",
      "Stopped by overfitting detector  (250 iterations wait)\n",
      "\n",
      "bestTest = 133919.3395\n",
      "bestIteration = 406\n",
      "\n",
      "70:\tloss: 133919.3395468\tbest: 132097.5447284 (61)\ttotal: 2h 50m 12s\tremaining: 2m 23s\n",
      "Stopped by overfitting detector  (250 iterations wait)\n",
      "\n",
      "bestTest = 134255.2231\n",
      "bestIteration = 536\n",
      "\n",
      "71:\tloss: 134255.2230832\tbest: 132097.5447284 (61)\ttotal: 2h 53m 44s\tremaining: 0us\n",
      "Estimating final quality...\n"
     ]
    }
   ],
   "source": [
    "grid_search_res = model.grid_search(params, x[features], y_train, plot=True)"
   ]
  },
  {
   "cell_type": "code",
   "execution_count": 307,
   "id": "11417c1e-e8a7-4e8c-afbf-aa325f0ada50",
   "metadata": {},
   "outputs": [
    {
     "data": {
      "text/plain": [
       "{'depth': 10, 'l2_leaf_reg': 1, 'iterations': 1000, 'learning_rate': 0.1}"
      ]
     },
     "execution_count": 307,
     "metadata": {},
     "output_type": "execute_result"
    }
   ],
   "source": [
    "grid_search_res['params']"
   ]
  },
  {
   "cell_type": "code",
   "execution_count": null,
   "id": "a24f1811-d819-4ed9-b2be-2ff77b971d2e",
   "metadata": {},
   "outputs": [],
   "source": []
  },
  {
   "cell_type": "code",
   "execution_count": 325,
   "id": "1b6f6ca0-cfb4-4993-8654-b3ffddf5d3ec",
   "metadata": {},
   "outputs": [
    {
     "data": {
      "text/plain": [
       "<catboost.core.CatBoostRegressor at 0x1403eb6d100>"
      ]
     },
     "execution_count": 325,
     "metadata": {},
     "output_type": "execute_result"
    }
   ],
   "source": [
    "model_ = CatBoostRegressor(early_stopping_rounds=250,\n",
    "                           depth=10,\n",
    "                           n_estimators = 1000,\n",
    "                           learning_rate = 0.1,\n",
    "                           l2_leaf_reg = 1,\n",
    "                          grow_policy = 'Depthwise',\n",
    "                          loss_function='MAE',\n",
    "                          cat_features= cat_cols,\n",
    "                          verbose=False)\n",
    "model_.fit(x[features], y_train)"
   ]
  },
  {
   "cell_type": "code",
   "execution_count": 326,
   "id": "afd00ad5-2299-4eb7-ac45-86ee9d2e587a",
   "metadata": {},
   "outputs": [
    {
     "data": {
      "text/plain": [
       "Text(0, 0.5, 'Mean decrease in impurity')"
      ]
     },
     "execution_count": 326,
     "metadata": {},
     "output_type": "execute_result"
    },
    {
     "data": {
      "text/plain": [
       "<Figure size 720x360 with 0 Axes>"
      ]
     },
     "metadata": {},
     "output_type": "display_data"
    },
    {
     "data": {
      "image/png": "[encoded data removed]",
      "text/plain": [
       "<Figure size 432x288 with 1 Axes>"
      ]
     },
     "metadata": {
      "needs_background": "light"
     },
     "output_type": "display_data"
    }
   ],
   "source": [
    "importances = model_.feature_importances_\n",
    "\n",
    "feature_importances = pd.Series(importances, index=features).sort_values(ascending=False)\n",
    "\n",
    "plt.figure(figsize=(10, 5))\n",
    "fig, ax = plt.subplots()\n",
    "feature_importances.plot.bar(ax=ax)\n",
    "ax.set_title(\"Feature importances using\")\n",
    "ax.set_ylabel(\"Mean decrease in impurity\")"
   ]
  },
  {
   "cell_type": "code",
   "execution_count": 327,
   "id": "d756b7a5-6df5-4f76-a9d0-8414c5a6d8bf",
   "metadata": {},
   "outputs": [],
   "source": [
    "test['pred'] = abs(model_.predict(test[features]))"
   ]
  },
  {
   "cell_type": "code",
   "execution_count": 328,
   "id": "e6d43170-1a8b-4549-8e4d-2c1d7bb5425c",
   "metadata": {},
   "outputs": [],
   "source": [
    "lst = []\n",
    "columns=[\"Item_ID\", \"Target\"]\n",
    "for idx, row in test.iterrows():\n",
    "    lst.append([row['sku_name']+'_'+str(row['month'])+'_'+str(row['year']), row['pred']])\n",
    "sub = pd.DataFrame(data=lst, columns = columns)"
   ]
  },
  {
   "cell_type": "code",
   "execution_count": 329,
   "id": "1df0be5d-20e2-4ca0-a6ba-6aa1bc10347b",
   "metadata": {},
   "outputs": [],
   "source": [
    "sub.to_csv(os.getcwd()+'\\submission 66 (abs preds); catboost = n_estimators = 1000, lr=0.1, l2 = 1, depth = 10; cv mae = 130-140k; features = lifecycle_stage, month, year, sellin_median, sellout_general_trend.csv',index=False)"
   ]
  },
  {
   "cell_type": "code",
   "execution_count": 147,
   "id": "1e48c8f1-cf4a-425e-ac79-4032eae9231f",
   "metadata": {},
   "outputs": [
    {
     "data": {
      "text/html": [
       "<div>\n",
       "<style scoped>\n",
       "    .dataframe tbody tr th:only-of-type {\n",
       "        vertical-align: middle;\n",
       "    }\n",
       "\n",
       "    .dataframe tbody tr th {\n",
       "        vertical-align: top;\n",
       "    }\n",
       "\n",
       "    .dataframe thead th {\n",
       "        text-align: right;\n",
       "    }\n",
       "</style>\n",
       "<table border=\"1\" class=\"dataframe\">\n",
       "  <thead>\n",
       "    <tr style=\"text-align: right;\">\n",
       "      <th></th>\n",
       "      <th>Item_ID</th>\n",
       "      <th>Target</th>\n",
       "    </tr>\n",
       "  </thead>\n",
       "  <tbody>\n",
       "    <tr>\n",
       "      <th>0</th>\n",
       "      <td>ABEAHAMASHL_11_2021</td>\n",
       "      <td>3487.064547</td>\n",
       "    </tr>\n",
       "    <tr>\n",
       "      <th>1</th>\n",
       "      <td>ABEAHAMASHL_12_2021</td>\n",
       "      <td>3297.387774</td>\n",
       "    </tr>\n",
       "    <tr>\n",
       "      <th>2</th>\n",
       "      <td>ABEAHAMASHL_1_2022</td>\n",
       "      <td>241968.045160</td>\n",
       "    </tr>\n",
       "    <tr>\n",
       "      <th>3</th>\n",
       "      <td>ABEAHAMASHL_2_2022</td>\n",
       "      <td>180558.550050</td>\n",
       "    </tr>\n",
       "    <tr>\n",
       "      <th>4</th>\n",
       "      <td>ABEENNEARMAZZ_11_2021</td>\n",
       "      <td>5718.152812</td>\n",
       "    </tr>\n",
       "    <tr>\n",
       "      <th>...</th>\n",
       "      <td>...</td>\n",
       "      <td>...</td>\n",
       "    </tr>\n",
       "    <tr>\n",
       "      <th>1523</th>\n",
       "      <td>YOSHRENECARL_2_2022</td>\n",
       "      <td>505140.033411</td>\n",
       "    </tr>\n",
       "    <tr>\n",
       "      <th>1524</th>\n",
       "      <td>YOSHTLYNYOSHZZ_11_2021</td>\n",
       "      <td>81550.275482</td>\n",
       "    </tr>\n",
       "    <tr>\n",
       "      <th>1525</th>\n",
       "      <td>YOSHTLYNYOSHZZ_12_2021</td>\n",
       "      <td>139101.721854</td>\n",
       "    </tr>\n",
       "    <tr>\n",
       "      <th>1526</th>\n",
       "      <td>YOSHTLYNYOSHZZ_1_2022</td>\n",
       "      <td>329320.922006</td>\n",
       "    </tr>\n",
       "    <tr>\n",
       "      <th>1527</th>\n",
       "      <td>YOSHTLYNYOSHZZ_2_2022</td>\n",
       "      <td>544455.716647</td>\n",
       "    </tr>\n",
       "  </tbody>\n",
       "</table>\n",
       "<p>1528 rows × 2 columns</p>\n",
       "</div>"
      ],
      "text/plain": [
       "                     Item_ID         Target\n",
       "0        ABEAHAMASHL_11_2021    3487.064547\n",
       "1        ABEAHAMASHL_12_2021    3297.387774\n",
       "2         ABEAHAMASHL_1_2022  241968.045160\n",
       "3         ABEAHAMASHL_2_2022  180558.550050\n",
       "4      ABEENNEARMAZZ_11_2021    5718.152812\n",
       "...                      ...            ...\n",
       "1523     YOSHRENECARL_2_2022  505140.033411\n",
       "1524  YOSHTLYNYOSHZZ_11_2021   81550.275482\n",
       "1525  YOSHTLYNYOSHZZ_12_2021  139101.721854\n",
       "1526   YOSHTLYNYOSHZZ_1_2022  329320.922006\n",
       "1527   YOSHTLYNYOSHZZ_2_2022  544455.716647\n",
       "\n",
       "[1528 rows x 2 columns]"
      ]
     },
     "execution_count": 147,
     "metadata": {},
     "output_type": "execute_result"
    }
   ],
   "source": [
    "sub"
   ]
  },
  {
   "cell_type": "code",
   "execution_count": null,
   "id": "84c08438-b56a-4b94-b604-a24e5f31f3a2",
   "metadata": {},
   "outputs": [],
   "source": []
  },
  {
   "cell_type": "code",
   "execution_count": null,
   "id": "0d2a7833-15ef-4d55-a380-8633501cc7e9",
   "metadata": {},
   "outputs": [],
   "source": []
  }
 ],
 "metadata": {
  "kernelspec": {
   "display_name": "Python 3 (ipykernel)",
   "language": "python",
   "name": "python3"
  },
  "language_info": {
   "codemirror_mode": {
    "name": "ipython",
    "version": 3
   },
   "file_extension": ".py",
   "mimetype": "text/x-python",
   "name": "python",
   "nbconvert_exporter": "python",
   "pygments_lexer": "ipython3",
   "version": "3.9.12"
  }
 },
 "nbformat": 4,
 "nbformat_minor": 5
}
