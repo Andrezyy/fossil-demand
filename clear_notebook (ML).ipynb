{
 "cells": [
  {
   "cell_type": "code",
   "execution_count": 5,
   "id": "f945b5bd-5832-4993-bbda-9c8b1f1ec9f9",
   "metadata": {},
   "outputs": [],
   "source": [
    "import numpy as np\n",
    "import pandas as pd\n",
    "import matplotlib.pyplot as plt\n",
    "import seaborn as sns\n",
    "from tqdm.notebook import tqdm\n",
    "from IPython.display import clear_output\n",
    "import os\n",
    "import random\n",
    "import itertools"
   ]
  },
  {
   "cell_type": "code",
   "execution_count": 578,
   "id": "75194891-1090-49ab-bbc3-3687eb210304",
   "metadata": {},
   "outputs": [],
   "source": [
    "from prophet import Prophet\n",
    "from lightgbm import LGBMRegressor\n",
    "from catboost import CatBoostRegressor\n",
    "from xgboost import XGBRegressor\n",
    "from sklearn.model_selection import train_test_split\n",
    "from sklearn.metrics import mean_absolute_error\n",
    "from sklearn.model_selection import cross_val_score\n",
    "\n",
    "from sklego.preprocessing import RepeatingBasisFunction"
   ]
  },
  {
   "cell_type": "markdown",
   "id": "42dfd86e-b14d-487a-a342-32355d1e6e3d",
   "metadata": {},
   "source": [
    "date_column"
   ]
  },
  {
   "cell_type": "code",
   "execution_count": 3,
   "id": "74303079-cdbe-423b-bb35-30855bb5a557",
   "metadata": {
    "tags": []
   },
   "outputs": [],
   "source": [
    "def date_column(x):\n",
    "    y = x['year']\n",
    "    m = x['month']\n",
    "    return pd.Timestamp(y, m, 1)\n",
    "\n",
    "def date_column_2(x):\n",
    "    y = x['year']\n",
    "    m = x['month']\n",
    "    if y in [2016,2017,2018,2019]:\n",
    "        return pd.Timestamp(y + 1, m, 1)\n",
    "    else:\n",
    "        return pd.Timestamp(y, m, 1)"
   ]
  },
  {
   "cell_type": "code",
   "execution_count": 601,
   "id": "e03273de-8abd-4f73-a9f7-3a6dcb22f2b6",
   "metadata": {},
   "outputs": [],
   "source": [
    "train = pd.read_csv(r\"New_train.csv\")\n",
    "test = pd.read_csv(r\"Test.csv\")"
   ]
  },
  {
   "cell_type": "markdown",
   "id": "516dc6ae-a2da-46be-8a24-88c25fc41a7d",
   "metadata": {},
   "source": [
    "### Feature engineering"
   ]
  },
  {
   "cell_type": "code",
   "execution_count": 602,
   "id": "c8137d4a-d682-401b-8eec-9e7549f9303c",
   "metadata": {},
   "outputs": [],
   "source": [
    "train['ds'] = train.apply(func = date_column, axis=1)\n",
    "test['ds'] = test.apply(func = date_column, axis=1)\n",
    "#train['ds'] = train.apply(func = date_column_2, axis=1)"
   ]
  },
  {
   "cell_type": "markdown",
   "id": "6de67c88-8f3a-4c88-8f50-341fd2ff221a",
   "metadata": {},
   "source": [
    "**New features**\n",
    "- sellin median\n",
    "- product_lifecycle_stage\n",
    "- year_number\n",
    "- disc_month"
   ]
  },
  {
   "cell_type": "code",
   "execution_count": 603,
   "id": "98ac13fe-6a4d-4617-beb6-2494758f02c0",
   "metadata": {},
   "outputs": [],
   "source": [
    "new_train_list = []\n",
    "sku_groups = train.groupby(by = 'sku_name')\n",
    "for sku_name, group in sku_groups:\n",
    "    group.loc[:,'sellin_median'] = np.median(group.sellin)\n",
    "    if len(new_train_list)==0:\n",
    "        new_train_list = [group.copy()]\n",
    "    else:\n",
    "        new_train_list.append(group.copy())\n",
    "train = pd.concat(new_train_list).reset_index(drop=True)"
   ]
  },
  {
   "cell_type": "code",
   "execution_count": 604,
   "id": "5d6f5982-3a78-4767-9df7-951b484a51e8",
   "metadata": {},
   "outputs": [],
   "source": [
    "new_test_list = []\n",
    "# months=[11,12,1,2]\n",
    "sku_groups = test.groupby(by = 'sku_name')\n",
    "for sku_name, group in sku_groups:\n",
    "    try:\n",
    "        temp = train[train.sku_name == sku_name]\n",
    "        max_date = max(temp.ds)\n",
    "        index = temp[temp.ds == max_date].index\n",
    "        group.loc[:,'product_lifecycle_stage'] = train.loc[index, 'product_lifecycle_stage'].item()\n",
    "        group.loc[:,'sellin_median'] = np.median(temp.sellin)\n",
    "        \n",
    "        # n_years = len(temp.year.unique())\n",
    "        # for m in months:\n",
    "        #     n_disc_month = temp[(temp.month == m) & (temp.disc_month == 1)].shape[0]\n",
    "        #     i = group[group.month == m].index\n",
    "        #     if n_disc_month/n_years >= 0.5:\n",
    "        #         group.loc[i,'disc_month']= 1\n",
    "        #     else:\n",
    "        #         group.loc[i,'disc_month']= 0\n",
    "    except:\n",
    "        group.loc[:,'product_lifecycle_stage'] = 'U'\n",
    "        group.loc[:,'sellin_median'] = 30000\n",
    "        # group.loc[:,'disc_month'] = 0\n",
    "    if len(new_test_list)==0:\n",
    "        new_test_list = [group.copy()]\n",
    "    else:\n",
    "        new_test_list.append(group.copy())\n",
    "test = pd.concat(new_test_list).reset_index(drop=True)\n",
    "#test = test.astype({\"disc_month\": int})"
   ]
  },
  {
   "cell_type": "code",
   "execution_count": 479,
   "id": "8802cc81-08f6-4e00-8448-58648c280eaf",
   "metadata": {},
   "outputs": [],
   "source": [
    "for idx, row in train.iterrows():\n",
    "    train.loc[idx,'year_number'] = row.year - 2016 + 1\n",
    "for idx, row in test.iterrows():\n",
    "    test.loc[idx,'year_number'] = row.year - 2016 + 1"
   ]
  },
  {
   "cell_type": "markdown",
   "id": "05ab3cd1-ae70-4dd2-8363-8d029ee0ec0f",
   "metadata": {},
   "source": [
    "- sellout general trend"
   ]
  },
  {
   "cell_type": "code",
   "execution_count": 605,
   "id": "5d4bd826-931d-47ed-8b37-a04786b1e5ce",
   "metadata": {},
   "outputs": [
    {
     "name": "stderr",
     "output_type": "stream",
     "text": [
      "C:\\Users\\egand\\anaconda3\\lib\\site-packages\\prophet\\forecaster.py:896: FutureWarning: The frame.append method is deprecated and will be removed from pandas in a future version. Use pandas.concat instead.\n",
      "  components = components.append(new_comp)\n",
      "C:\\Users\\egand\\anaconda3\\lib\\site-packages\\prophet\\forecaster.py:896: FutureWarning: The frame.append method is deprecated and will be removed from pandas in a future version. Use pandas.concat instead.\n",
      "  components = components.append(new_comp)\n",
      "C:\\Users\\egand\\anaconda3\\lib\\site-packages\\prophet\\forecaster.py:896: FutureWarning: The frame.append method is deprecated and will be removed from pandas in a future version. Use pandas.concat instead.\n",
      "  components = components.append(new_comp)\n"
     ]
    }
   ],
   "source": [
    "temp = pd.DataFrame()\n",
    "for sku_name in test.sku_name.unique():\n",
    "    sku_temp =  train[train.sku_name == sku_name]\n",
    "    if sku_temp.shape[0]>=40:\n",
    "        temp = pd.concat([temp, sku_temp])\n",
    "temp['y'] = temp['sellout']\n",
    "prophet = Prophet(yearly_seasonality=3, daily_seasonality=False, weekly_seasonality=False, seasonality_mode = 'multiplicative', n_changepoints = 0)\n",
    "prophet.fit(temp)\n",
    "future = prophet.make_future_dataframe(periods=4, freq = 'MS')\n",
    "forecast = prophet.predict(future)\n",
    "serie = forecast['yhat']\n",
    "index = forecast['ds']\n",
    "a = [1]+[serie[i+1]/serie[i] for i in range(0, len(serie)-1)]\n",
    "coefs_for_next_observs = pd.Series(data=a, index = index)"
   ]
  },
  {
   "cell_type": "code",
   "execution_count": 607,
   "id": "0f6cde5c-6600-4d1e-a532-0a1aaf043b60",
   "metadata": {},
   "outputs": [],
   "source": [
    "train_sku_groups = train.groupby(by = 'sku_name')\n",
    "cum_coefs_by_sku={}\n",
    "new_train_list = []\n",
    "\n",
    "for sku_name, group in train_sku_groups:\n",
    "    \n",
    "    #выясняем min date и sellout этой даты, если он равен 0 ты ищем дальше, так как если использовать 0 то все последующие значения будут тоже нулевые\n",
    "    #если sellout отличный от нуля найти не получилось, то пусть будут везде нули. Хорошо.\n",
    "    min_date = min(group.ds).asm8.astype('datetime64[M]')\n",
    "    elem = group[group.ds == min_date].sellout.item()\n",
    "    if elem == 0:\n",
    "        other_dates = group.ds[1:]\n",
    "        for date in other_dates:\n",
    "            if group[group.ds == date].sellout.item() != 0:\n",
    "                min_date = date\n",
    "                elem = group[group.ds == date].sellout.item()\n",
    "                break\n",
    "    \n",
    "    cumulative_coefs =  np.cumprod(coefs_for_next_observs[min_date:])\n",
    "    cumulative_coefs[0] = 1\n",
    "    for idx, row in group.iterrows():\n",
    "        if row['ds']<min_date:\n",
    "            group.loc[idx,'sellout_general_trend'] = 0\n",
    "        else:\n",
    "            group.loc[idx,'sellout_general_trend'] = elem * cumulative_coefs[row['ds']]\n",
    "        \n",
    "    cum_coefs_by_sku[sku_name] = (elem, cumulative_coefs)\n",
    "    if len(new_train_list)==0:\n",
    "        new_train_list = [group.copy()]\n",
    "    else:\n",
    "        new_train_list.append(group.copy())\n",
    "train = pd.concat(new_train_list).reset_index(drop=True)\n",
    "\n",
    "\n",
    "test_sku_groups = test.groupby(by = 'sku_name')\n",
    "new_test_list = []\n",
    "for sku_name, group in test_sku_groups:\n",
    "    try: \n",
    "        elem, cumulative_coefs = cum_coefs_by_sku[sku_name]\n",
    "        for idx, row in group.iterrows():\n",
    "            #group.loc[idx,'sellout_general_trend'] = elem * cumulative_coefs[row['ds']]\n",
    "            group.loc[idx,'sellout'] = elem * cumulative_coefs[row['ds']]\n",
    "    except:\n",
    "        for idx, row in group.iterrows():\n",
    "            #group.loc[idx,'sellout_general_trend'] = 0\n",
    "            group.loc[idx,'sellout'] = 30000\n",
    "    if len(new_test_list)==0:\n",
    "        new_test_list = [group.copy()]\n",
    "    else:\n",
    "        new_test_list.append(group.copy())\n",
    "test = pd.concat(new_test_list).reset_index(drop=True)"
   ]
  },
  {
   "cell_type": "markdown",
   "id": "00b783bb-6097-4e88-9901-b4ceb013edb6",
   "metadata": {},
   "source": [
    "RFB"
   ]
  },
  {
   "cell_type": "code",
   "execution_count": 282,
   "id": "6bd4edab-5622-4602-ad74-8810cc783f2d",
   "metadata": {},
   "outputs": [],
   "source": [
    "rbf = RepeatingBasisFunction(n_periods=12,\n",
    "                             #remainder='passthrough',\n",
    "                             column='month',\n",
    "                             input_range=(1,12))\n",
    "rbf.fit(train)\n",
    "rfb_columns = [f'month_rfb_{i}' for i in range(12)]\n",
    "rfb_train = pd.DataFrame(index=train.index, data=rbf.transform(train), columns = rfb_columns)\n",
    "train = pd.concat([train,rfb_train],axis=1)\n",
    "\n",
    "rfb_test = pd.DataFrame(index=test.index, data=rbf.transform(test), columns = rfb_columns)\n",
    "test = pd.concat([test,rfb_test],axis=1)"
   ]
  },
  {
   "cell_type": "markdown",
   "id": "d78fb096-e4d0-4ff4-97a6-260849a1f4dd",
   "metadata": {},
   "source": [
    "### catboost"
   ]
  },
  {
   "cell_type": "markdown",
   "id": "a751f22a-79d7-4bc9-921d-5c9c95b3ad1a",
   "metadata": {},
   "source": [
    "**Попытка 1**\n",
    "- Добавить product_lifecycle_stage (дополнить тестовые записи последним lifecycle_stage из трейна)"
   ]
  },
  {
   "cell_type": "code",
   "execution_count": null,
   "id": "172df971-2526-42ab-9e94-81d948d77b2f",
   "metadata": {},
   "outputs": [],
   "source": [
    "features = ['CAT_GENDER_BOTH','CAT_GENDER_MEN','CAT_GENDER_WOMEN','month','year','product_lifecycle_stage']\n",
    "cat_cols = ['CAT_GENDER_BOTH','CAT_GENDER_MEN','CAT_GENDER_WOMEN','month','year','product_lifecycle_stage']"
   ]
  },
  {
   "cell_type": "markdown",
   "id": "566c8101-beed-493f-97f6-202911e98933",
   "metadata": {},
   "source": [
    "Результаты:\n",
    "- Ошибка на кросс валидации 185-190к\n",
    "- Ошибка на тесте 233к"
   ]
  },
  {
   "cell_type": "markdown",
   "id": "14d9027f-4b27-480d-b825-829c2290e991",
   "metadata": {},
   "source": [
    "**Попытка 2**\n",
    "- Добавить product_lifecycle_stage (дополнить тестовые записи последним lifecycle_stage из трейна)\n",
    "- Добавить sellin_median (медианы товаров)"
   ]
  },
  {
   "cell_type": "code",
   "execution_count": null,
   "id": "07d097da-8c33-43f8-a971-1bad029e2249",
   "metadata": {},
   "outputs": [],
   "source": [
    "features = ['CAT_GENDER_BOTH','CAT_GENDER_MEN','CAT_GENDER_WOMEN','month','year','product_lifecycle_stage','sellin_median']\n",
    "cat_cols = ['CAT_GENDER_BOTH','CAT_GENDER_MEN','CAT_GENDER_WOMEN','month','year','product_lifecycle_stage']"
   ]
  },
  {
   "cell_type": "markdown",
   "id": "51b19ee7-9456-4c80-94e8-faa12f6e819b",
   "metadata": {},
   "source": [
    "Результаты:\n",
    "- модель: lr 0.1, n_est 1000, l2 1, depth 10\n",
    "- Ошибка на кросс валидации 125-140к\n",
    "- Ошибка на тесте 174к (172к если взять модуль предсказаний)"
   ]
  },
  {
   "cell_type": "markdown",
   "id": "9c563107-e1a6-4f21-b6cc-8c3e0af3f29a",
   "metadata": {},
   "source": [
    "**Попытка 3**\n",
    "- Добавить product_lifecycle_stage (дополнить тестовые записи последним lifecycle_stage из трейна)\n",
    "- Добавить sellin_median (медианы товаров)\n",
    "- Закодировать month radial basis functions (RFB)"
   ]
  },
  {
   "cell_type": "code",
   "execution_count": null,
   "id": "3fb6aaea-9087-4378-a314-94ad01b608b8",
   "metadata": {},
   "outputs": [],
   "source": [
    "features =['CAT_GENDER_BOTH','CAT_GENDER_MEN','CAT_GENDER_WOMEN','year','month','product_lifecycle_stage','sellin_median'] + rfb_columns\n",
    "cat_cols = ['CAT_GENDER_BOTH','CAT_GENDER_MEN','CAT_GENDER_WOMEN','year','month','product_lifecycle_stage']"
   ]
  },
  {
   "cell_type": "markdown",
   "id": "e0236599-5038-40ae-ac35-2c9d632dcb27",
   "metadata": {},
   "source": [
    "Результаты:\n",
    "- модель: n_estimators = 1000, lr=0.1, l2 = 6, depth = 8\n",
    "- Ошибка на кросс валидации 125-135к\n",
    "- Ошибка на тесте 199k"
   ]
  },
  {
   "cell_type": "markdown",
   "id": "610d466f-a059-4a66-a6e5-0509992f064a",
   "metadata": {},
   "source": [
    "**Попытка 4**\n",
    "- Добавить product_lifecycle_stage (дополнить тестовые записи последним lifecycle_stage из трейна)\n",
    "- Добавить sellin_median (медианы товаров)\n",
    "- Добавить общий тренд sellout постороенный на тестовых товарах Prophet"
   ]
  },
  {
   "cell_type": "code",
   "execution_count": null,
   "id": "ef01bad9-bcd3-42d7-8f11-d663c4e5dfa9",
   "metadata": {},
   "outputs": [],
   "source": [
    "features = ['CAT_GENDER_BOTH','CAT_GENDER_MEN','CAT_GENDER_WOMEN','month','year','product_lifecycle_stage','sellin_median','sellout_general_trend']\n",
    "cat_cols = ['CAT_GENDER_BOTH','CAT_GENDER_MEN','CAT_GENDER_WOMEN','month','year','product_lifecycle_stage']"
   ]
  },
  {
   "cell_type": "code",
   "execution_count": 610,
   "id": "8de0e4e3-e8c1-4f5d-babb-d1d3d784273c",
   "metadata": {},
   "outputs": [],
   "source": [
    "features = ['month','year','product_lifecycle_stage','sellin_median','sellout']\n",
    "cat_cols = ['month','year','product_lifecycle_stage']"
   ]
  },
  {
   "cell_type": "markdown",
   "id": "a3c2aeec-e0f2-4074-80ae-003404ec3b3d",
   "metadata": {},
   "source": [
    "Результаты:\n",
    "- Ошибка на кросс валидации 130-135к\n",
    "- Ошибка на тесте 182к"
   ]
  },
  {
   "cell_type": "markdown",
   "id": "94fe4eaf-b1cf-4b24-9af7-2eb2d321612a",
   "metadata": {},
   "source": [
    "**Попытка 5**\n",
    "- Попытка 2 + но убрать признаки отвечюащие за пол, так как они всегда очень неважные"
   ]
  },
  {
   "cell_type": "code",
   "execution_count": 628,
   "id": "ad0028e3-192d-41ed-9930-39a21b898a69",
   "metadata": {},
   "outputs": [],
   "source": [
    "features = ['month','year','product_lifecycle_stage','sellin_median']\n",
    "cat_cols = ['month','year','product_lifecycle_stage']"
   ]
  },
  {
   "cell_type": "markdown",
   "id": "1ed30ef3-8716-4813-9536-d864ecb2c993",
   "metadata": {},
   "source": [
    "Результаты: (МЕГА УСПЕХ)\n",
    "- Ошибка на кросс валидации 130-135к\n",
    "- Ошибка на тесте 164к"
   ]
  },
  {
   "cell_type": "markdown",
   "id": "5786cc79-19db-45b7-a4b7-b1bf6d43a6b8",
   "metadata": {},
   "source": [
    "**Попытка 6**\n",
    "- Попытка 4 + но убрать признаки отвечюащие за пол, так как они всегда очень неважные"
   ]
  },
  {
   "cell_type": "code",
   "execution_count": 322,
   "id": "b444052a-d50d-4b47-8662-7cf895519392",
   "metadata": {},
   "outputs": [],
   "source": [
    "features = ['month','year','product_lifecycle_stage','sellin_median','sellout_general_trend']\n",
    "cat_cols = ['month','year','product_lifecycle_stage']"
   ]
  },
  {
   "cell_type": "markdown",
   "id": "a6252b8a-4bed-47f7-a6b0-fc4079163242",
   "metadata": {},
   "source": [
    "Результаты: meh 190k"
   ]
  },
  {
   "cell_type": "markdown",
   "id": "b052810c-65c2-479c-a0ad-188a57e10cb3",
   "metadata": {},
   "source": [
    "**Попытка 7**\n",
    "- Признаки month,year,product_lifecycle_stage,sellin_median\n",
    "- Добавим year_number, номер года в данных, 2016 - 1, 2017 - 2, ... , 2022 - 7 как числовой признак (может поймается общий тренд хороший) "
   ]
  },
  {
   "cell_type": "code",
   "execution_count": 480,
   "id": "e684c3bf-c203-4a25-8887-b6d85f167dcf",
   "metadata": {},
   "outputs": [],
   "source": [
    "features = ['month','year','product_lifecycle_stage','sellin_median','year_number']\n",
    "cat_cols = ['month','year','product_lifecycle_stage']"
   ]
  },
  {
   "cell_type": "markdown",
   "id": "88165fe2-8487-4a8b-a752-5b1fb5ef5e58",
   "metadata": {},
   "source": [
    "Результат: 173к"
   ]
  },
  {
   "cell_type": "markdown",
   "id": "ad947dbb-c113-4a97-a4b5-cbfdcab573cf",
   "metadata": {},
   "source": [
    "**Попытка 8**\n",
    "- Признаки month,year,product_lifecycle_stage,sellin_median\n",
    "- Добавим disc_month"
   ]
  },
  {
   "cell_type": "code",
   "execution_count": 528,
   "id": "16e2f83e-327b-416c-a204-54f9902398d0",
   "metadata": {},
   "outputs": [],
   "source": [
    "features = ['month','year','product_lifecycle_stage','sellin_median','disc_month']\n",
    "cat_cols = ['month','year','product_lifecycle_stage','disc_month']"
   ]
  },
  {
   "cell_type": "markdown",
   "id": "d8f9aaab-97ba-48df-a055-e2c0d5698770",
   "metadata": {},
   "source": [
    "Результат: 194k"
   ]
  },
  {
   "cell_type": "code",
   "execution_count": 609,
   "id": "c9ef69e4-93a1-41b1-99cc-40020943dae9",
   "metadata": {},
   "outputs": [
    {
     "data": {
      "text/html": [
       "<div>\n",
       "<style scoped>\n",
       "    .dataframe tbody tr th:only-of-type {\n",
       "        vertical-align: middle;\n",
       "    }\n",
       "\n",
       "    .dataframe tbody tr th {\n",
       "        vertical-align: top;\n",
       "    }\n",
       "\n",
       "    .dataframe thead th {\n",
       "        text-align: right;\n",
       "    }\n",
       "</style>\n",
       "<table border=\"1\" class=\"dataframe\">\n",
       "  <thead>\n",
       "    <tr style=\"text-align: right;\">\n",
       "      <th></th>\n",
       "      <th>sku_name</th>\n",
       "      <th>month</th>\n",
       "      <th>year</th>\n",
       "      <th>CAT_GENDER_BOTH</th>\n",
       "      <th>CAT_GENDER_MEN</th>\n",
       "      <th>CAT_GENDER_WOMEN</th>\n",
       "      <th>ds</th>\n",
       "      <th>product_lifecycle_stage</th>\n",
       "      <th>sellin_median</th>\n",
       "      <th>sellout_general_trend</th>\n",
       "      <th>sellout</th>\n",
       "    </tr>\n",
       "  </thead>\n",
       "  <tbody>\n",
       "    <tr>\n",
       "      <th>0</th>\n",
       "      <td>ABEAHAMASHL</td>\n",
       "      <td>11</td>\n",
       "      <td>2021</td>\n",
       "      <td>0</td>\n",
       "      <td>0</td>\n",
       "      <td>1</td>\n",
       "      <td>2021-11-01</td>\n",
       "      <td>W</td>\n",
       "      <td>252237.0</td>\n",
       "      <td>101202.583856</td>\n",
       "      <td>101202.583856</td>\n",
       "    </tr>\n",
       "    <tr>\n",
       "      <th>1</th>\n",
       "      <td>ABEAHAMASHL</td>\n",
       "      <td>12</td>\n",
       "      <td>2021</td>\n",
       "      <td>0</td>\n",
       "      <td>0</td>\n",
       "      <td>1</td>\n",
       "      <td>2021-12-01</td>\n",
       "      <td>W</td>\n",
       "      <td>252237.0</td>\n",
       "      <td>115292.731368</td>\n",
       "      <td>115292.731368</td>\n",
       "    </tr>\n",
       "    <tr>\n",
       "      <th>2</th>\n",
       "      <td>ABEAHAMASHL</td>\n",
       "      <td>1</td>\n",
       "      <td>2022</td>\n",
       "      <td>0</td>\n",
       "      <td>0</td>\n",
       "      <td>1</td>\n",
       "      <td>2022-01-01</td>\n",
       "      <td>W</td>\n",
       "      <td>252237.0</td>\n",
       "      <td>67958.969958</td>\n",
       "      <td>67958.969958</td>\n",
       "    </tr>\n",
       "    <tr>\n",
       "      <th>3</th>\n",
       "      <td>ABEAHAMASHL</td>\n",
       "      <td>2</td>\n",
       "      <td>2022</td>\n",
       "      <td>0</td>\n",
       "      <td>0</td>\n",
       "      <td>1</td>\n",
       "      <td>2022-02-01</td>\n",
       "      <td>W</td>\n",
       "      <td>252237.0</td>\n",
       "      <td>25758.615822</td>\n",
       "      <td>25758.615822</td>\n",
       "    </tr>\n",
       "    <tr>\n",
       "      <th>4</th>\n",
       "      <td>ABEENNEARMAZZ</td>\n",
       "      <td>11</td>\n",
       "      <td>2021</td>\n",
       "      <td>0</td>\n",
       "      <td>0</td>\n",
       "      <td>1</td>\n",
       "      <td>2021-11-01</td>\n",
       "      <td>W</td>\n",
       "      <td>219821.0</td>\n",
       "      <td>10650.961414</td>\n",
       "      <td>10650.961414</td>\n",
       "    </tr>\n",
       "  </tbody>\n",
       "</table>\n",
       "</div>"
      ],
      "text/plain": [
       "        sku_name  month  year  CAT_GENDER_BOTH  CAT_GENDER_MEN  \\\n",
       "0    ABEAHAMASHL     11  2021                0               0   \n",
       "1    ABEAHAMASHL     12  2021                0               0   \n",
       "2    ABEAHAMASHL      1  2022                0               0   \n",
       "3    ABEAHAMASHL      2  2022                0               0   \n",
       "4  ABEENNEARMAZZ     11  2021                0               0   \n",
       "\n",
       "   CAT_GENDER_WOMEN         ds product_lifecycle_stage  sellin_median  \\\n",
       "0                 1 2021-11-01                       W       252237.0   \n",
       "1                 1 2021-12-01                       W       252237.0   \n",
       "2                 1 2022-01-01                       W       252237.0   \n",
       "3                 1 2022-02-01                       W       252237.0   \n",
       "4                 1 2021-11-01                       W       219821.0   \n",
       "\n",
       "   sellout_general_trend        sellout  \n",
       "0          101202.583856  101202.583856  \n",
       "1          115292.731368  115292.731368  \n",
       "2           67958.969958   67958.969958  \n",
       "3           25758.615822   25758.615822  \n",
       "4           10650.961414   10650.961414  "
      ]
     },
     "execution_count": 609,
     "metadata": {},
     "output_type": "execute_result"
    }
   ],
   "source": [
    "test.head()"
   ]
  },
  {
   "cell_type": "code",
   "execution_count": null,
   "id": "3e90eded-b330-4c4f-b73d-59e2342327d4",
   "metadata": {},
   "outputs": [],
   "source": []
  },
  {
   "cell_type": "code",
   "execution_count": null,
   "id": "ef9cd3df-4034-43e4-a2c4-99991346c122",
   "metadata": {},
   "outputs": [],
   "source": []
  },
  {
   "cell_type": "code",
   "execution_count": 611,
   "id": "e0213e72-47cc-4d2e-a983-76f40ddff5f9",
   "metadata": {},
   "outputs": [],
   "source": [
    "y_train = train['sellin']\n",
    "x = train.drop(columns = 'sellin')"
   ]
  },
  {
   "cell_type": "code",
   "execution_count": 613,
   "id": "e5069b8d-b28b-4453-a31b-b9695cb5ade7",
   "metadata": {},
   "outputs": [],
   "source": [
    "model = CatBoostRegressor(early_stopping_rounds=250,\n",
    "                          grow_policy = 'Depthwise',\n",
    "                          loss_function='MAE',\n",
    "                          cat_features= cat_cols,\n",
    "                          verbose=False)\n",
    "params = {'l2_leaf_reg':[1,3,6],\n",
    "          'learning_rate': [0.1, 0.25, 0.5],\n",
    "          'depth':[8,10],\n",
    "          'n_estimators':range(500, 1501, 250)\n",
    "         }"
   ]
  },
  {
   "cell_type": "code",
   "execution_count": 616,
   "id": "c045096f-73ea-48db-9f28-934abe98b207",
   "metadata": {
    "collapsed": true,
    "jupyter": {
     "outputs_hidden": true
    },
    "tags": []
   },
   "outputs": [
    {
     "data": {
      "application/vnd.jupyter.widget-view+json": {
       "model_id": "85df2b9d54064c61adf803b9887bcd9f",
       "version_major": 2,
       "version_minor": 0
      },
      "text/plain": [
       "MetricVisualizer(layout=Layout(align_self='stretch', height='500px'))"
      ]
     },
     "metadata": {},
     "output_type": "display_data"
    },
    {
     "name": "stdout",
     "output_type": "stream",
     "text": [
      "\n",
      "bestTest = 120117.069\n",
      "bestIteration = 497\n",
      "\n",
      "0:\tloss: 120117.0689849\tbest: 120117.0689849 (0)\ttotal: 2m 26s\tremaining: 3h 37m 56s\n",
      "\n",
      "bestTest = 120410.2337\n",
      "bestIteration = 363\n",
      "\n",
      "1:\tloss: 120410.2337490\tbest: 120117.0689849 (0)\ttotal: 4m 54s\tremaining: 3h 36m 7s\n",
      "Stopped by overfitting detector  (250 iterations wait)\n",
      "\n",
      "bestTest = 123314.7375\n",
      "bestIteration = 97\n",
      "\n",
      "2:\tloss: 123314.7374813\tbest: 120117.0689849 (0)\ttotal: 6m 43s\tremaining: 3h 14m 55s\n",
      "\n",
      "bestTest = 120479.5918\n",
      "bestIteration = 455\n",
      "\n",
      "3:\tloss: 120479.5918073\tbest: 120117.0689849 (0)\ttotal: 9m 16s\tremaining: 3h 19m 35s\n",
      "Stopped by overfitting detector  (250 iterations wait)\n",
      "\n",
      "bestTest = 120867.0704\n",
      "bestIteration = 238\n",
      "\n",
      "4:\tloss: 120867.0704421\tbest: 120117.0689849 (0)\ttotal: 11m 47s\tremaining: 3h 20m 30s\n",
      "Stopped by overfitting detector  (250 iterations wait)\n",
      "\n",
      "bestTest = 123331.5068\n",
      "bestIteration = 51\n",
      "\n",
      "5:\tloss: 123331.5067774\tbest: 120117.0689849 (0)\ttotal: 13m 15s\tremaining: 3h 5m 33s\n",
      "\n",
      "bestTest = 120490.3002\n",
      "bestIteration = 491\n",
      "\n",
      "6:\tloss: 120490.3002318\tbest: 120117.0689849 (0)\ttotal: 15m 31s\tremaining: 3h 3m 59s\n",
      "Stopped by overfitting detector  (250 iterations wait)\n",
      "\n",
      "bestTest = 121112.9179\n",
      "bestIteration = 221\n",
      "\n",
      "7:\tloss: 121112.9179270\tbest: 120117.0689849 (0)\ttotal: 17m 51s\tremaining: 3h 3m 2s\n",
      "Stopped by overfitting detector  (250 iterations wait)\n",
      "\n",
      "bestTest = 123222.3353\n",
      "bestIteration = 47\n",
      "\n",
      "8:\tloss: 123222.3352752\tbest: 120117.0689849 (0)\ttotal: 19m 24s\tremaining: 2h 54m 37s\n",
      "\n",
      "bestTest = 119789.5528\n",
      "bestIteration = 727\n",
      "\n",
      "9:\tloss: 119789.5527654\tbest: 119789.5527654 (9)\ttotal: 22m 39s\tremaining: 3h 1m 16s\n",
      "Stopped by overfitting detector  (250 iterations wait)\n",
      "\n",
      "bestTest = 120410.2337\n",
      "bestIteration = 363\n",
      "\n",
      "10:\tloss: 120410.2337490\tbest: 119789.5527654 (9)\ttotal: 25m 24s\tremaining: 3h 2m 29s\n",
      "Stopped by overfitting detector  (250 iterations wait)\n",
      "\n",
      "bestTest = 123314.7375\n",
      "bestIteration = 97\n",
      "\n",
      "11:\tloss: 123314.7374813\tbest: 119789.5527654 (9)\ttotal: 27m 1s\tremaining: 2h 55m 38s\n",
      "\n",
      "bestTest = 120357.5448\n",
      "bestIteration = 715\n",
      "\n",
      "12:\tloss: 120357.5448191\tbest: 119789.5527654 (9)\ttotal: 30m 22s\tremaining: 2h 59m 53s\n",
      "Stopped by overfitting detector  (250 iterations wait)\n",
      "\n",
      "bestTest = 120867.0704\n",
      "bestIteration = 238\n",
      "\n",
      "13:\tloss: 120867.0704421\tbest: 119789.5527654 (9)\ttotal: 32m 36s\tremaining: 2h 57m 2s\n",
      "Stopped by overfitting detector  (250 iterations wait)\n",
      "\n",
      "bestTest = 123331.5068\n",
      "bestIteration = 51\n",
      "\n",
      "14:\tloss: 123331.5067774\tbest: 119789.5527654 (9)\ttotal: 34m 5s\tremaining: 2h 50m 27s\n",
      "\n",
      "bestTest = 120235.0891\n",
      "bestIteration = 655\n",
      "\n",
      "15:\tloss: 120235.0890556\tbest: 119789.5527654 (9)\ttotal: 37m 34s\tremaining: 2h 53m 48s\n",
      "Stopped by overfitting detector  (250 iterations wait)\n",
      "\n",
      "bestTest = 121112.9179\n",
      "bestIteration = 221\n",
      "\n",
      "16:\tloss: 121112.9179270\tbest: 119789.5527654 (9)\ttotal: 39m 47s\tremaining: 2h 50m 51s\n",
      "Stopped by overfitting detector  (250 iterations wait)\n",
      "\n",
      "bestTest = 123222.3353\n",
      "bestIteration = 47\n",
      "\n",
      "17:\tloss: 123222.3352752\tbest: 119789.5527654 (9)\ttotal: 41m 19s\tremaining: 2h 45m 17s\n",
      "\n",
      "bestTest = 119675.2918\n",
      "bestIteration = 900\n",
      "\n",
      "18:\tloss: 119675.2918483\tbest: 119675.2918483 (18)\ttotal: 45m 38s\tremaining: 2h 50m 31s\n",
      "Stopped by overfitting detector  (250 iterations wait)\n",
      "\n",
      "bestTest = 120410.2337\n",
      "bestIteration = 363\n",
      "\n",
      "19:\tloss: 120410.2337490\tbest: 119675.2918483 (18)\ttotal: 48m 22s\tremaining: 2h 49m 18s\n",
      "Stopped by overfitting detector  (250 iterations wait)\n",
      "\n",
      "bestTest = 123314.7375\n",
      "bestIteration = 97\n",
      "\n",
      "20:\tloss: 123314.7374813\tbest: 119675.2918483 (18)\ttotal: 49m 59s\tremaining: 2h 44m 14s\n",
      "\n",
      "bestTest = 120346.9732\n",
      "bestIteration = 879\n",
      "\n",
      "21:\tloss: 120346.9731609\tbest: 119675.2918483 (18)\ttotal: 54m 21s\tremaining: 2h 48m\n",
      "Stopped by overfitting detector  (250 iterations wait)\n",
      "\n",
      "bestTest = 120867.0704\n",
      "bestIteration = 238\n",
      "\n",
      "22:\tloss: 120867.0704421\tbest: 119675.2918483 (18)\ttotal: 56m 38s\tremaining: 2h 44m 58s\n",
      "Stopped by overfitting detector  (250 iterations wait)\n",
      "\n",
      "bestTest = 123331.5068\n",
      "bestIteration = 51\n",
      "\n",
      "23:\tloss: 123331.5067774\tbest: 119675.2918483 (18)\ttotal: 58m 6s\tremaining: 2h 39m 48s\n",
      "Stopped by overfitting detector  (250 iterations wait)\n",
      "\n",
      "bestTest = 120235.0891\n",
      "bestIteration = 655\n",
      "\n",
      "24:\tloss: 120235.0890556\tbest: 119675.2918483 (18)\ttotal: 1h 2m 13s\tremaining: 2h 41m 46s\n",
      "Stopped by overfitting detector  (250 iterations wait)\n",
      "\n",
      "bestTest = 121112.9179\n",
      "bestIteration = 221\n",
      "\n",
      "25:\tloss: 121112.9179270\tbest: 119675.2918483 (18)\ttotal: 1h 4m 27s\tremaining: 2h 38m 40s\n",
      "Stopped by overfitting detector  (250 iterations wait)\n",
      "\n",
      "bestTest = 123222.3353\n",
      "bestIteration = 47\n",
      "\n",
      "26:\tloss: 123222.3352752\tbest: 119675.2918483 (18)\ttotal: 1h 6m\tremaining: 2h 34m 1s\n",
      "Stopped by overfitting detector  (250 iterations wait)\n",
      "\n",
      "bestTest = 119675.2918\n",
      "bestIteration = 900\n",
      "\n",
      "27:\tloss: 119675.2918483\tbest: 119675.2918483 (18)\ttotal: 1h 10m 48s\tremaining: 2h 36m 47s\n",
      "Stopped by overfitting detector  (250 iterations wait)\n",
      "\n",
      "bestTest = 120410.2337\n",
      "bestIteration = 363\n",
      "\n",
      "28:\tloss: 120410.2337490\tbest: 119675.2918483 (18)\ttotal: 1h 13m 35s\tremaining: 2h 34m 46s\n",
      "Stopped by overfitting detector  (250 iterations wait)\n",
      "\n",
      "bestTest = 123314.7375\n",
      "bestIteration = 97\n",
      "\n",
      "29:\tloss: 123314.7374813\tbest: 119675.2918483 (18)\ttotal: 1h 15m 12s\tremaining: 2h 30m 24s\n",
      "\n",
      "bestTest = 120266.0698\n",
      "bestIteration = 1249\n",
      "\n",
      "30:\tloss: 120266.0697624\tbest: 119675.2918483 (18)\ttotal: 1h 20m 35s\tremaining: 2h 33m 23s\n",
      "Stopped by overfitting detector  (250 iterations wait)\n",
      "\n",
      "bestTest = 120867.0704\n",
      "bestIteration = 238\n",
      "\n",
      "31:\tloss: 120867.0704421\tbest: 119675.2918483 (18)\ttotal: 1h 22m 50s\tremaining: 2h 30m 8s\n",
      "Stopped by overfitting detector  (250 iterations wait)\n",
      "\n",
      "bestTest = 123331.5068\n",
      "bestIteration = 51\n",
      "\n",
      "32:\tloss: 123331.5067774\tbest: 119675.2918483 (18)\ttotal: 1h 24m 19s\tremaining: 2h 25m 38s\n",
      "Stopped by overfitting detector  (250 iterations wait)\n",
      "\n",
      "bestTest = 120235.0891\n",
      "bestIteration = 655\n",
      "\n",
      "33:\tloss: 120235.0890556\tbest: 119675.2918483 (18)\ttotal: 1h 28m 27s\tremaining: 2h 25m 41s\n",
      "Stopped by overfitting detector  (250 iterations wait)\n",
      "\n",
      "bestTest = 121112.9179\n",
      "bestIteration = 221\n",
      "\n",
      "34:\tloss: 121112.9179270\tbest: 119675.2918483 (18)\ttotal: 1h 30m 41s\tremaining: 2h 22m 30s\n",
      "Stopped by overfitting detector  (250 iterations wait)\n",
      "\n",
      "bestTest = 123222.3353\n",
      "bestIteration = 47\n",
      "\n",
      "35:\tloss: 123222.3352752\tbest: 119675.2918483 (18)\ttotal: 1h 32m 13s\tremaining: 2h 18m 20s\n",
      "Stopped by overfitting detector  (250 iterations wait)\n",
      "\n",
      "bestTest = 119675.2918\n",
      "bestIteration = 900\n",
      "\n",
      "36:\tloss: 119675.2918483\tbest: 119675.2918483 (18)\ttotal: 1h 37m 9s\tremaining: 2h 19m 10s\n",
      "Stopped by overfitting detector  (250 iterations wait)\n",
      "\n",
      "bestTest = 120410.2337\n",
      "bestIteration = 363\n",
      "\n",
      "37:\tloss: 120410.2337490\tbest: 119675.2918483 (18)\ttotal: 1h 39m 56s\tremaining: 2h 16m 45s\n",
      "Stopped by overfitting detector  (250 iterations wait)\n",
      "\n",
      "bestTest = 123314.7375\n",
      "bestIteration = 97\n",
      "\n",
      "38:\tloss: 123314.7374813\tbest: 119675.2918483 (18)\ttotal: 1h 41m 33s\tremaining: 2h 12m 47s\n",
      "\n",
      "bestTest = 120166.2039\n",
      "bestIteration = 1478\n",
      "\n",
      "39:\tloss: 120166.2039399\tbest: 119675.2918483 (18)\ttotal: 1h 48m 2s\tremaining: 2h 15m 2s\n",
      "Stopped by overfitting detector  (250 iterations wait)\n",
      "\n",
      "bestTest = 120867.0704\n",
      "bestIteration = 238\n",
      "\n",
      "40:\tloss: 120867.0704421\tbest: 119675.2918483 (18)\ttotal: 1h 50m 17s\tremaining: 2h 11m 48s\n",
      "Stopped by overfitting detector  (250 iterations wait)\n",
      "\n",
      "bestTest = 123331.5068\n",
      "bestIteration = 51\n",
      "\n",
      "41:\tloss: 123331.5067774\tbest: 119675.2918483 (18)\ttotal: 1h 51m 45s\tremaining: 2h 7m 43s\n",
      "Stopped by overfitting detector  (250 iterations wait)\n",
      "\n",
      "bestTest = 120235.0891\n",
      "bestIteration = 655\n",
      "\n",
      "42:\tloss: 120235.0890556\tbest: 119675.2918483 (18)\ttotal: 1h 55m 54s\tremaining: 2h 6m 41s\n",
      "Stopped by overfitting detector  (250 iterations wait)\n",
      "\n",
      "bestTest = 121112.9179\n",
      "bestIteration = 221\n",
      "\n",
      "43:\tloss: 121112.9179270\tbest: 119675.2918483 (18)\ttotal: 1h 58m 10s\tremaining: 2h 3m 33s\n",
      "Stopped by overfitting detector  (250 iterations wait)\n",
      "\n",
      "bestTest = 123222.3353\n",
      "bestIteration = 47\n",
      "\n",
      "44:\tloss: 123222.3352752\tbest: 119675.2918483 (18)\ttotal: 1h 59m 43s\tremaining: 1h 59m 43s\n",
      "\n",
      "bestTest = 120397.3948\n",
      "bestIteration = 402\n",
      "\n",
      "45:\tloss: 120397.3948470\tbest: 119675.2918483 (18)\ttotal: 2h 4m 31s\tremaining: 1h 59m 6s\n",
      "Stopped by overfitting detector  (250 iterations wait)\n",
      "\n",
      "bestTest = 121342.0428\n",
      "bestIteration = 172\n",
      "\n",
      "46:\tloss: 121342.0427750\tbest: 119675.2918483 (18)\ttotal: 2h 8m 20s\tremaining: 1h 57m 24s\n",
      "Stopped by overfitting detector  (250 iterations wait)\n",
      "\n",
      "bestTest = 123618.8746\n",
      "bestIteration = 35\n",
      "\n",
      "47:\tloss: 123618.8745915\tbest: 119675.2918483 (18)\ttotal: 2h 11m 6s\tremaining: 1h 54m 43s\n",
      "\n",
      "bestTest = 120214.3557\n",
      "bestIteration = 456\n",
      "\n",
      "48:\tloss: 120214.3556919\tbest: 119675.2918483 (18)\ttotal: 2h 15m 56s\tremaining: 1h 53m 44s\n",
      "Stopped by overfitting detector  (250 iterations wait)\n",
      "\n",
      "bestTest = 120841.8944\n",
      "bestIteration = 111\n",
      "\n",
      "49:\tloss: 120841.8944272\tbest: 119675.2918483 (18)\ttotal: 2h 19m 33s\tremaining: 1h 51m 39s\n",
      "Stopped by overfitting detector  (250 iterations wait)\n",
      "\n",
      "bestTest = 123540.6649\n",
      "bestIteration = 60\n",
      "\n",
      "50:\tloss: 123540.6648866\tbest: 119675.2918483 (18)\ttotal: 2h 22m 43s\tremaining: 1h 49m 8s\n",
      "Stopped by overfitting detector  (250 iterations wait)\n",
      "\n",
      "bestTest = 119879.0913\n",
      "bestIteration = 230\n",
      "\n",
      "51:\tloss: 119879.0912673\tbest: 119675.2918483 (18)\ttotal: 2h 27m 36s\tremaining: 1h 47m 52s\n",
      "Stopped by overfitting detector  (250 iterations wait)\n",
      "\n",
      "bestTest = 121306.411\n",
      "bestIteration = 92\n",
      "\n",
      "52:\tloss: 121306.4109567\tbest: 119675.2918483 (18)\ttotal: 2h 31m 13s\tremaining: 1h 45m 34s\n",
      "Stopped by overfitting detector  (250 iterations wait)\n",
      "\n",
      "bestTest = 124503.0167\n",
      "bestIteration = 72\n",
      "\n",
      "53:\tloss: 124503.0166664\tbest: 119675.2918483 (18)\ttotal: 2h 34m 37s\tremaining: 1h 43m 4s\n",
      "Stopped by overfitting detector  (250 iterations wait)\n",
      "\n",
      "bestTest = 120397.3948\n",
      "bestIteration = 402\n",
      "\n",
      "54:\tloss: 120397.3948470\tbest: 119675.2918483 (18)\ttotal: 2h 40m 36s\tremaining: 1h 42m 12s\n",
      "Stopped by overfitting detector  (250 iterations wait)\n",
      "\n",
      "bestTest = 121342.0428\n",
      "bestIteration = 172\n",
      "\n",
      "55:\tloss: 121342.0427750\tbest: 119675.2918483 (18)\ttotal: 2h 44m 24s\tremaining: 1h 39m 48s\n",
      "Stopped by overfitting detector  (250 iterations wait)\n",
      "\n",
      "bestTest = 123618.8746\n",
      "bestIteration = 35\n",
      "\n",
      "56:\tloss: 123618.8745915\tbest: 119675.2918483 (18)\ttotal: 2h 47m 11s\tremaining: 1h 36m 47s\n",
      "\n",
      "bestTest = 120185.5956\n",
      "bestIteration = 567\n",
      "\n",
      "57:\tloss: 120185.5956347\tbest: 119675.2918483 (18)\ttotal: 2h 54m 19s\tremaining: 1h 36m 10s\n",
      "Stopped by overfitting detector  (250 iterations wait)\n",
      "\n",
      "bestTest = 120841.8944\n",
      "bestIteration = 111\n",
      "\n",
      "58:\tloss: 120841.8944272\tbest: 119675.2918483 (18)\ttotal: 2h 58m 16s\tremaining: 1h 33m 39s\n",
      "Stopped by overfitting detector  (250 iterations wait)\n",
      "\n",
      "bestTest = 123540.6649\n",
      "bestIteration = 60\n",
      "\n",
      "59:\tloss: 123540.6648866\tbest: 119675.2918483 (18)\ttotal: 3h 1m 35s\tremaining: 1h 30m 47s\n",
      "Stopped by overfitting detector  (250 iterations wait)\n",
      "\n",
      "bestTest = 119879.0913\n",
      "bestIteration = 230\n",
      "\n",
      "60:\tloss: 119879.0912673\tbest: 119675.2918483 (18)\ttotal: 3h 6m 38s\tremaining: 1h 28m 44s\n",
      "Stopped by overfitting detector  (250 iterations wait)\n",
      "\n",
      "bestTest = 121306.411\n",
      "bestIteration = 92\n",
      "\n",
      "61:\tloss: 121306.4109567\tbest: 119675.2918483 (18)\ttotal: 3h 10m 15s\tremaining: 1h 25m 55s\n",
      "Stopped by overfitting detector  (250 iterations wait)\n",
      "\n",
      "bestTest = 124503.0167\n",
      "bestIteration = 72\n",
      "\n",
      "62:\tloss: 124503.0166664\tbest: 119675.2918483 (18)\ttotal: 3h 13m 28s\tremaining: 1h 22m 55s\n",
      "Stopped by overfitting detector  (250 iterations wait)\n",
      "\n",
      "bestTest = 120397.3948\n",
      "bestIteration = 402\n",
      "\n",
      "63:\tloss: 120397.3948470\tbest: 119675.2918483 (18)\ttotal: 3h 19m 14s\tremaining: 1h 20m 56s\n",
      "Stopped by overfitting detector  (250 iterations wait)\n",
      "\n",
      "bestTest = 121342.0428\n",
      "bestIteration = 172\n",
      "\n",
      "64:\tloss: 121342.0427750\tbest: 119675.2918483 (18)\ttotal: 3h 23m 3s\tremaining: 1h 18m 5s\n",
      "Stopped by overfitting detector  (250 iterations wait)\n",
      "\n",
      "bestTest = 123618.8746\n",
      "bestIteration = 35\n",
      "\n",
      "65:\tloss: 123618.8745915\tbest: 119675.2918483 (18)\ttotal: 3h 25m 41s\tremaining: 1h 14m 47s\n",
      "Stopped by overfitting detector  (250 iterations wait)\n",
      "\n",
      "bestTest = 120185.5956\n",
      "bestIteration = 567\n",
      "\n",
      "66:\tloss: 120185.5956347\tbest: 119675.2918483 (18)\ttotal: 3h 32m 56s\tremaining: 1h 13m 5s\n",
      "Stopped by overfitting detector  (250 iterations wait)\n",
      "\n",
      "bestTest = 120841.8944\n",
      "bestIteration = 111\n",
      "\n",
      "67:\tloss: 120841.8944272\tbest: 119675.2918483 (18)\ttotal: 3h 36m 22s\tremaining: 1h 10m\n",
      "Stopped by overfitting detector  (250 iterations wait)\n",
      "\n",
      "bestTest = 123540.6649\n",
      "bestIteration = 60\n",
      "\n",
      "68:\tloss: 123540.6648866\tbest: 119675.2918483 (18)\ttotal: 3h 39m 20s\tremaining: 1h 6m 45s\n",
      "Stopped by overfitting detector  (250 iterations wait)\n",
      "\n",
      "bestTest = 119879.0913\n",
      "bestIteration = 230\n",
      "\n",
      "69:\tloss: 119879.0912673\tbest: 119675.2918483 (18)\ttotal: 3h 43m 54s\tremaining: 1h 3m 58s\n",
      "Stopped by overfitting detector  (250 iterations wait)\n",
      "\n",
      "bestTest = 121306.411\n",
      "bestIteration = 92\n",
      "\n",
      "70:\tloss: 121306.4109567\tbest: 119675.2918483 (18)\ttotal: 3h 47m 19s\tremaining: 1h 49s\n",
      "Stopped by overfitting detector  (250 iterations wait)\n",
      "\n",
      "bestTest = 124503.0167\n",
      "bestIteration = 72\n",
      "\n",
      "71:\tloss: 124503.0166664\tbest: 119675.2918483 (18)\ttotal: 3h 50m 28s\tremaining: 57m 37s\n",
      "Stopped by overfitting detector  (250 iterations wait)\n",
      "\n",
      "bestTest = 120397.3948\n",
      "bestIteration = 402\n",
      "\n",
      "72:\tloss: 120397.3948470\tbest: 119675.2918483 (18)\ttotal: 3h 56m 9s\tremaining: 54m 59s\n",
      "Stopped by overfitting detector  (250 iterations wait)\n",
      "\n",
      "bestTest = 121342.0428\n",
      "bestIteration = 172\n",
      "\n",
      "73:\tloss: 121342.0427750\tbest: 119675.2918483 (18)\ttotal: 3h 59m 42s\tremaining: 51m 49s\n",
      "Stopped by overfitting detector  (250 iterations wait)\n",
      "\n",
      "bestTest = 123618.8746\n",
      "bestIteration = 35\n",
      "\n",
      "74:\tloss: 123618.8745915\tbest: 119675.2918483 (18)\ttotal: 4h 2m 18s\tremaining: 48m 27s\n",
      "Stopped by overfitting detector  (250 iterations wait)\n",
      "\n",
      "bestTest = 120185.5956\n",
      "bestIteration = 567\n",
      "\n",
      "75:\tloss: 120185.5956347\tbest: 119675.2918483 (18)\ttotal: 4h 9m 29s\tremaining: 45m 57s\n",
      "Stopped by overfitting detector  (250 iterations wait)\n",
      "\n",
      "bestTest = 120841.8944\n",
      "bestIteration = 111\n",
      "\n",
      "76:\tloss: 120841.8944272\tbest: 119675.2918483 (18)\ttotal: 4h 12m 52s\tremaining: 42m 41s\n",
      "Stopped by overfitting detector  (250 iterations wait)\n",
      "\n",
      "bestTest = 123540.6649\n",
      "bestIteration = 60\n",
      "\n",
      "77:\tloss: 123540.6648866\tbest: 119675.2918483 (18)\ttotal: 4h 15m 49s\tremaining: 39m 21s\n",
      "Stopped by overfitting detector  (250 iterations wait)\n",
      "\n",
      "bestTest = 119879.0913\n",
      "bestIteration = 230\n",
      "\n",
      "78:\tloss: 119879.0912673\tbest: 119675.2918483 (18)\ttotal: 4h 20m 24s\tremaining: 36m 15s\n",
      "Stopped by overfitting detector  (250 iterations wait)\n",
      "\n",
      "bestTest = 121306.411\n",
      "bestIteration = 92\n",
      "\n",
      "79:\tloss: 121306.4109567\tbest: 119675.2918483 (18)\ttotal: 4h 23m 47s\tremaining: 32m 58s\n",
      "Stopped by overfitting detector  (250 iterations wait)\n",
      "\n",
      "bestTest = 124503.0167\n",
      "bestIteration = 72\n",
      "\n",
      "80:\tloss: 124503.0166664\tbest: 119675.2918483 (18)\ttotal: 4h 26m 58s\tremaining: 29m 39s\n",
      "Stopped by overfitting detector  (250 iterations wait)\n",
      "\n",
      "bestTest = 120397.3948\n",
      "bestIteration = 402\n",
      "\n",
      "81:\tloss: 120397.3948470\tbest: 119675.2918483 (18)\ttotal: 4h 32m 38s\tremaining: 26m 35s\n",
      "Stopped by overfitting detector  (250 iterations wait)\n",
      "\n",
      "bestTest = 121342.0428\n",
      "bestIteration = 172\n",
      "\n",
      "82:\tloss: 121342.0427750\tbest: 119675.2918483 (18)\ttotal: 4h 36m 11s\tremaining: 23m 17s\n",
      "Stopped by overfitting detector  (250 iterations wait)\n",
      "\n",
      "bestTest = 123618.8746\n",
      "bestIteration = 35\n",
      "\n",
      "83:\tloss: 123618.8745915\tbest: 119675.2918483 (18)\ttotal: 4h 38m 47s\tremaining: 19m 54s\n",
      "Stopped by overfitting detector  (250 iterations wait)\n",
      "\n",
      "bestTest = 120185.5956\n",
      "bestIteration = 567\n",
      "\n",
      "84:\tloss: 120185.5956347\tbest: 119675.2918483 (18)\ttotal: 4h 45m 58s\tremaining: 16m 49s\n",
      "Stopped by overfitting detector  (250 iterations wait)\n",
      "\n",
      "bestTest = 120841.8944\n",
      "bestIteration = 111\n",
      "\n",
      "85:\tloss: 120841.8944272\tbest: 119675.2918483 (18)\ttotal: 4h 49m 21s\tremaining: 13m 27s\n",
      "Stopped by overfitting detector  (250 iterations wait)\n",
      "\n",
      "bestTest = 123540.6649\n",
      "bestIteration = 60\n",
      "\n",
      "86:\tloss: 123540.6648866\tbest: 119675.2918483 (18)\ttotal: 4h 52m 17s\tremaining: 10m 4s\n",
      "Stopped by overfitting detector  (250 iterations wait)\n",
      "\n",
      "bestTest = 119879.0913\n",
      "bestIteration = 230\n",
      "\n",
      "87:\tloss: 119879.0912673\tbest: 119675.2918483 (18)\ttotal: 4h 56m 52s\tremaining: 6m 44s\n",
      "Stopped by overfitting detector  (250 iterations wait)\n",
      "\n",
      "bestTest = 121306.411\n",
      "bestIteration = 92\n",
      "\n",
      "88:\tloss: 121306.4109567\tbest: 119675.2918483 (18)\ttotal: 5h 17s\tremaining: 3m 22s\n",
      "Stopped by overfitting detector  (250 iterations wait)\n",
      "\n",
      "bestTest = 124503.0167\n",
      "bestIteration = 72\n",
      "\n",
      "89:\tloss: 124503.0166664\tbest: 119675.2918483 (18)\ttotal: 5h 3m 26s\tremaining: 0us\n",
      "Estimating final quality...\n"
     ]
    }
   ],
   "source": [
    "grid_search_res = model.grid_search(params, x[features], y_train, plot=True)"
   ]
  },
  {
   "cell_type": "code",
   "execution_count": 307,
   "id": "11417c1e-e8a7-4e8c-afbf-aa325f0ada50",
   "metadata": {},
   "outputs": [
    {
     "data": {
      "text/plain": [
       "{'depth': 10, 'l2_leaf_reg': 1, 'iterations': 1000, 'learning_rate': 0.1}"
      ]
     },
     "execution_count": 307,
     "metadata": {},
     "output_type": "execute_result"
    }
   ],
   "source": [
    "grid_search_res['params']"
   ]
  },
  {
   "cell_type": "code",
   "execution_count": 622,
   "id": "021cd986-c74c-423c-ab12-22701d79fd38",
   "metadata": {},
   "outputs": [
    {
     "data": {
      "text/plain": [
       "<catboost.core.CatBoostRegressor at 0x14051ea25e0>"
      ]
     },
     "execution_count": 622,
     "metadata": {},
     "output_type": "execute_result"
    }
   ],
   "source": [
    "model_ = CatBoostRegressor(early_stopping_rounds=250,\n",
    "                           depth=8,\n",
    "                           n_estimators = 500,\n",
    "                           learning_rate = 0.1,\n",
    "                           l2_leaf_reg = 1,\n",
    "                          grow_policy = 'Depthwise',\n",
    "                          loss_function='MAE',\n",
    "                          cat_features= cat_cols,\n",
    "                          verbose=False)\n",
    "model_.fit(x[features], y_train)"
   ]
  },
  {
   "cell_type": "code",
   "execution_count": 623,
   "id": "afd00ad5-2299-4eb7-ac45-86ee9d2e587a",
   "metadata": {},
   "outputs": [
    {
     "data": {
      "text/plain": [
       "Text(0, 0.5, 'Mean decrease in impurity')"
      ]
     },
     "execution_count": 623,
     "metadata": {},
     "output_type": "execute_result"
    },
    {
     "data": {
      "text/plain": [
       "<Figure size 720x360 with 0 Axes>"
      ]
     },
     "metadata": {},
     "output_type": "display_data"
    },
    {
     "data": {
      "image/png": "[encoded data removed]",
      "text/plain": [
       "<Figure size 432x288 with 1 Axes>"
      ]
     },
     "metadata": {
      "needs_background": "light"
     },
     "output_type": "display_data"
    }
   ],
   "source": [
    "importances = model_.feature_importances_\n",
    "\n",
    "feature_importances = pd.Series(importances, index=features).sort_values(ascending=False)\n",
    "\n",
    "plt.figure(figsize=(10, 5))\n",
    "fig, ax = plt.subplots()\n",
    "feature_importances.plot.bar(ax=ax)\n",
    "ax.set_title(\"Feature importances using\")\n",
    "ax.set_ylabel(\"Mean decrease in impurity\")"
   ]
  },
  {
   "cell_type": "code",
   "execution_count": 624,
   "id": "d756b7a5-6df5-4f76-a9d0-8414c5a6d8bf",
   "metadata": {},
   "outputs": [],
   "source": [
    "test['pred'] = abs(model_.predict(test[features]))"
   ]
  },
  {
   "cell_type": "code",
   "execution_count": 625,
   "id": "e6d43170-1a8b-4549-8e4d-2c1d7bb5425c",
   "metadata": {},
   "outputs": [],
   "source": [
    "lst = []\n",
    "columns=[\"Item_ID\", \"Target\"]\n",
    "for idx, row in test.iterrows():\n",
    "    lst.append([row['sku_name']+'_'+str(row['month'])+'_'+str(row['year']), row['pred']])\n",
    "sub = pd.DataFrame(data=lst, columns = columns)"
   ]
  },
  {
   "cell_type": "code",
   "execution_count": 626,
   "id": "1df0be5d-20e2-4ca0-a6ba-6aa1bc10347b",
   "metadata": {},
   "outputs": [],
   "source": [
    "sub.to_csv(os.getcwd()+'\\submission 76 (abs preds); catboost = n_estimators = 500, lr=0.1, l2 = 1, depth = 8; features = month, year, sellin_median, sellout(general trend, prophet).csv',index=False)"
   ]
  },
  {
   "cell_type": "code",
   "execution_count": 147,
   "id": "1e48c8f1-cf4a-425e-ac79-4032eae9231f",
   "metadata": {},
   "outputs": [
    {
     "data": {
      "text/html": [
       "<div>\n",
       "<style scoped>\n",
       "    .dataframe tbody tr th:only-of-type {\n",
       "        vertical-align: middle;\n",
       "    }\n",
       "\n",
       "    .dataframe tbody tr th {\n",
       "        vertical-align: top;\n",
       "    }\n",
       "\n",
       "    .dataframe thead th {\n",
       "        text-align: right;\n",
       "    }\n",
       "</style>\n",
       "<table border=\"1\" class=\"dataframe\">\n",
       "  <thead>\n",
       "    <tr style=\"text-align: right;\">\n",
       "      <th></th>\n",
       "      <th>Item_ID</th>\n",
       "      <th>Target</th>\n",
       "    </tr>\n",
       "  </thead>\n",
       "  <tbody>\n",
       "    <tr>\n",
       "      <th>0</th>\n",
       "      <td>ABEAHAMASHL_11_2021</td>\n",
       "      <td>3487.064547</td>\n",
       "    </tr>\n",
       "    <tr>\n",
       "      <th>1</th>\n",
       "      <td>ABEAHAMASHL_12_2021</td>\n",
       "      <td>3297.387774</td>\n",
       "    </tr>\n",
       "    <tr>\n",
       "      <th>2</th>\n",
       "      <td>ABEAHAMASHL_1_2022</td>\n",
       "      <td>241968.045160</td>\n",
       "    </tr>\n",
       "    <tr>\n",
       "      <th>3</th>\n",
       "      <td>ABEAHAMASHL_2_2022</td>\n",
       "      <td>180558.550050</td>\n",
       "    </tr>\n",
       "    <tr>\n",
       "      <th>4</th>\n",
       "      <td>ABEENNEARMAZZ_11_2021</td>\n",
       "      <td>5718.152812</td>\n",
       "    </tr>\n",
       "    <tr>\n",
       "      <th>...</th>\n",
       "      <td>...</td>\n",
       "      <td>...</td>\n",
       "    </tr>\n",
       "    <tr>\n",
       "      <th>1523</th>\n",
       "      <td>YOSHRENECARL_2_2022</td>\n",
       "      <td>505140.033411</td>\n",
       "    </tr>\n",
       "    <tr>\n",
       "      <th>1524</th>\n",
       "      <td>YOSHTLYNYOSHZZ_11_2021</td>\n",
       "      <td>81550.275482</td>\n",
       "    </tr>\n",
       "    <tr>\n",
       "      <th>1525</th>\n",
       "      <td>YOSHTLYNYOSHZZ_12_2021</td>\n",
       "      <td>139101.721854</td>\n",
       "    </tr>\n",
       "    <tr>\n",
       "      <th>1526</th>\n",
       "      <td>YOSHTLYNYOSHZZ_1_2022</td>\n",
       "      <td>329320.922006</td>\n",
       "    </tr>\n",
       "    <tr>\n",
       "      <th>1527</th>\n",
       "      <td>YOSHTLYNYOSHZZ_2_2022</td>\n",
       "      <td>544455.716647</td>\n",
       "    </tr>\n",
       "  </tbody>\n",
       "</table>\n",
       "<p>1528 rows × 2 columns</p>\n",
       "</div>"
      ],
      "text/plain": [
       "                     Item_ID         Target\n",
       "0        ABEAHAMASHL_11_2021    3487.064547\n",
       "1        ABEAHAMASHL_12_2021    3297.387774\n",
       "2         ABEAHAMASHL_1_2022  241968.045160\n",
       "3         ABEAHAMASHL_2_2022  180558.550050\n",
       "4      ABEENNEARMAZZ_11_2021    5718.152812\n",
       "...                      ...            ...\n",
       "1523     YOSHRENECARL_2_2022  505140.033411\n",
       "1524  YOSHTLYNYOSHZZ_11_2021   81550.275482\n",
       "1525  YOSHTLYNYOSHZZ_12_2021  139101.721854\n",
       "1526   YOSHTLYNYOSHZZ_1_2022  329320.922006\n",
       "1527   YOSHTLYNYOSHZZ_2_2022  544455.716647\n",
       "\n",
       "[1528 rows x 2 columns]"
      ]
     },
     "execution_count": 147,
     "metadata": {},
     "output_type": "execute_result"
    }
   ],
   "source": [
    "sub default features + disc_month"
   ]
  },
  {
   "cell_type": "code",
   "execution_count": null,
   "id": "84c08438-b56a-4b94-b604-a24e5f31f3a2",
   "metadata": {},
   "outputs": [],
   "source": []
  },
  {
   "cell_type": "code",
   "execution_count": null,
   "id": "e9934e6b-9395-4b91-8d02-f995cb5a556d",
   "metadata": {},
   "outputs": [],
   "source": []
  },
  {
   "cell_type": "code",
   "execution_count": null,
   "id": "caee6fab-c0bb-49b8-b504-bb5f17e772af",
   "metadata": {},
   "outputs": [],
   "source": []
  },
  {
   "cell_type": "code",
   "execution_count": null,
   "id": "5bb0a0a2-a8a1-4490-a861-0c332eb56641",
   "metadata": {},
   "outputs": [],
   "source": []
  },
  {
   "cell_type": "code",
   "execution_count": 585,
   "id": "0d2a7833-15ef-4d55-a380-8633501cc7e9",
   "metadata": {},
   "outputs": [],
   "source": [
    "y = train['sellin']\n",
    "x = train.drop(columns = 'sellin')\n",
    "x_train, x_test, y_train, y_test = train_test_split(x,y, test_size = 0.2)"
   ]
  },
  {
   "cell_type": "code",
   "execution_count": 579,
   "id": "57c8b0d9-4360-491f-ad81-9e460a28f959",
   "metadata": {},
   "outputs": [],
   "source": [
    "model_ = CatBoostRegressor(early_stopping_rounds=250,\n",
    "                           depth=10,\n",
    "                           n_estimators = 1000,\n",
    "                           learning_rate = 0.1,\n",
    "                           l2_leaf_reg = 1,\n",
    "                           grow_policy = 'Depthwise',\n",
    "                           loss_function='MAE',\n",
    "                           cat_features= cat_cols,\n",
    "                           verbose=False)"
   ]
  },
  {
   "cell_type": "code",
   "execution_count": 591,
   "id": "d0343c20-e5ab-4440-8ea4-c77387f3a6f9",
   "metadata": {},
   "outputs": [],
   "source": [
    "mae = cross_val_score(model_, x[features], y, cv=5, scoring = 'neg_mean_absolute_error')"
   ]
  },
  {
   "cell_type": "code",
   "execution_count": 592,
   "id": "d726aa3f-4b76-48d0-9dbe-49e89b68a5d3",
   "metadata": {},
   "outputs": [
    {
     "data": {
      "text/plain": [
       "array([-177794.1955078 , -142705.09558047, -133097.67065391,\n",
       "       -176928.93115724, -141416.66027308])"
      ]
     },
     "execution_count": 592,
     "metadata": {},
     "output_type": "execute_result"
    }
   ],
   "source": [
    "mae"
   ]
  },
  {
   "cell_type": "code",
   "execution_count": 600,
   "id": "748163a9-efc1-4ccf-a55f-1063b9d15f09",
   "metadata": {},
   "outputs": [
    {
     "data": {
      "text/plain": [
       "154388.5106344986"
      ]
     },
     "execution_count": 600,
     "metadata": {},
     "output_type": "execute_result"
    }
   ],
   "source": [
    "np.mean(-mae)"
   ]
  },
  {
   "cell_type": "code",
   "execution_count": null,
   "id": "5a3ceda2-0635-4c9d-b9a2-0652f4fcb25d",
   "metadata": {},
   "outputs": [],
   "source": []
  },
  {
   "cell_type": "code",
   "execution_count": 593,
   "id": "665d9880-cdfa-45de-aa55-4c7e853dddab",
   "metadata": {},
   "outputs": [],
   "source": [
    "y = train['sellout']\n",
    "x = train.drop(columns = 'sellout')\n",
    "x_train, x_test, y_train, y_test = train_test_split(x,y, test_size = 0.2)"
   ]
  },
  {
   "cell_type": "code",
   "execution_count": 594,
   "id": "c7b28bb8-884f-4c5b-bf6b-9c0075408c0a",
   "metadata": {},
   "outputs": [],
   "source": [
    "model_ = CatBoostRegressor(early_stopping_rounds=250,\n",
    "                           depth=10,\n",
    "                           n_estimators = 1000,\n",
    "                           learning_rate = 0.1,\n",
    "                           l2_leaf_reg = 1,\n",
    "                          grow_policy = 'Depthwise',\n",
    "                          loss_function='MAE',\n",
    "                          cat_features= cat_cols,\n",
    "                          verbose=False)\n",
    "#model_.fit(x_train[features], y_train)"
   ]
  },
  {
   "cell_type": "code",
   "execution_count": 595,
   "id": "fecd0909-0158-4a87-aa74-ecbbae219221",
   "metadata": {},
   "outputs": [],
   "source": [
    "mae_2 = cross_val_score(model_, x[features], y, cv=5, scoring = 'neg_mean_absolute_error')"
   ]
  },
  {
   "cell_type": "code",
   "execution_count": 596,
   "id": "6c8d0fbe-36aa-4847-b10d-daf31aa923ec",
   "metadata": {},
   "outputs": [
    {
     "data": {
      "text/plain": [
       "array([-92284.62796117, -74636.6775727 , -73173.15414526, -91371.67683023,\n",
       "       -75376.00249461])"
      ]
     },
     "execution_count": 596,
     "metadata": {},
     "output_type": "execute_result"
    }
   ],
   "source": [
    "mae_2"
   ]
  },
  {
   "cell_type": "code",
   "execution_count": 599,
   "id": "379b724f-c9c1-4c66-a5cd-86dd9f18c1b7",
   "metadata": {},
   "outputs": [
    {
     "data": {
      "text/plain": [
       "81368.42780079455"
      ]
     },
     "execution_count": 599,
     "metadata": {},
     "output_type": "execute_result"
    }
   ],
   "source": [
    "np.mean(-mae_2)"
   ]
  },
  {
   "cell_type": "code",
   "execution_count": null,
   "id": "7b58a865-dafd-4258-b91f-aecbc61c6f6d",
   "metadata": {},
   "outputs": [],
   "source": []
  },
  {
   "cell_type": "code",
   "execution_count": 631,
   "id": "17cd2901-0065-4ade-a9ae-aaea3dbf3d34",
   "metadata": {},
   "outputs": [],
   "source": [
    "y = train['sellout']\n",
    "x = train.drop(columns = 'sellout')\n",
    "x_train, x_test, y_train, y_test = train_test_split(x,y, test_size = 0.15)"
   ]
  },
  {
   "cell_type": "code",
   "execution_count": 632,
   "id": "75e32d4a-b0fc-4ed6-889d-824989197074",
   "metadata": {},
   "outputs": [],
   "source": [
    "model = CatBoostRegressor(early_stopping_rounds=250,\n",
    "                          grow_policy = 'Depthwise',\n",
    "                          loss_function='MAE',\n",
    "                          cat_features= cat_cols,\n",
    "                          verbose=False)\n",
    "params = {'l2_leaf_reg':[1,3,6],\n",
    "          'learning_rate': [0.05, 0.1, 0.25, 0.5],\n",
    "          'depth':[8,10],\n",
    "          'n_estimators':range(500, 1251, 250)\n",
    "         }"
   ]
  },
  {
   "cell_type": "code",
   "execution_count": null,
   "id": "3a11d262-ff0f-4dad-a3bf-47f965d4130c",
   "metadata": {},
   "outputs": [
    {
     "data": {
      "application/vnd.jupyter.widget-view+json": {
       "model_id": "52162fb52b2441db9f9202a0e4d89654",
       "version_major": 2,
       "version_minor": 0
      },
      "text/plain": [
       "MetricVisualizer(layout=Layout(align_self='stretch', height='500px'))"
      ]
     },
     "metadata": {},
     "output_type": "display_data"
    }
   ],
   "source": [
    "grid_search_res = model.grid_search(params, x_train[features], y_train, plot=True)"
   ]
  },
  {
   "cell_type": "code",
   "execution_count": null,
   "id": "6ef7be9a-d744-4f1f-99ff-ba924fa4390f",
   "metadata": {},
   "outputs": [],
   "source": []
  }
 ],
 "metadata": {
  "kernelspec": {
   "display_name": "Python 3 (ipykernel)",
   "language": "python",
   "name": "python3"
  },
  "language_info": {
   "codemirror_mode": {
    "name": "ipython",
    "version": 3
   },
   "file_extension": ".py",
   "mimetype": "text/x-python",
   "name": "python",
   "nbconvert_exporter": "python",
   "pygments_lexer": "ipython3",
   "version": "3.9.12"
  }
 },
 "nbformat": 4,
 "nbformat_minor": 5
}
